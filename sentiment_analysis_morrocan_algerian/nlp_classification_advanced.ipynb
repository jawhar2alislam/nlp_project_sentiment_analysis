{
  "nbformat": 4,
  "nbformat_minor": 0,
  "metadata": {
    "colab": {
      "provenance": [],
      "gpuType": "T4"
    },
    "kernelspec": {
      "name": "python3",
      "display_name": "Python 3"
    },
    "language_info": {
      "name": "python"
    },
    "accelerator": "GPU"
  },
  "cells": [
    {
      "cell_type": "code",
      "source": [
        "\n",
        "!pip install datasets"
      ],
      "metadata": {
        "colab": {
          "base_uri": "https://localhost:8080/"
        },
        "id": "6vi9N9L9UTgq",
        "outputId": "a63782f5-fa0d-45d6-9fbb-3f34aa2e3138"
      },
      "execution_count": null,
      "outputs": [
        {
          "output_type": "stream",
          "name": "stdout",
          "text": [
            "Collecting datasets\n",
            "  Downloading datasets-3.6.0-py3-none-any.whl.metadata (19 kB)\n",
            "Requirement already satisfied: filelock in /usr/local/lib/python3.11/dist-packages (from datasets) (3.18.0)\n",
            "Requirement already satisfied: numpy>=1.17 in /usr/local/lib/python3.11/dist-packages (from datasets) (2.0.2)\n",
            "Requirement already satisfied: pyarrow>=15.0.0 in /usr/local/lib/python3.11/dist-packages (from datasets) (18.1.0)\n",
            "Requirement already satisfied: dill<0.3.9,>=0.3.0 in /usr/local/lib/python3.11/dist-packages (from datasets) (0.3.7)\n",
            "Requirement already satisfied: pandas in /usr/local/lib/python3.11/dist-packages (from datasets) (2.2.2)\n",
            "Requirement already satisfied: requests>=2.32.2 in /usr/local/lib/python3.11/dist-packages (from datasets) (2.32.3)\n",
            "Requirement already satisfied: tqdm>=4.66.3 in /usr/local/lib/python3.11/dist-packages (from datasets) (4.67.1)\n",
            "Requirement already satisfied: xxhash in /usr/local/lib/python3.11/dist-packages (from datasets) (3.5.0)\n",
            "Requirement already satisfied: multiprocess<0.70.17 in /usr/local/lib/python3.11/dist-packages (from datasets) (0.70.15)\n",
            "Collecting fsspec<=2025.3.0,>=2023.1.0 (from fsspec[http]<=2025.3.0,>=2023.1.0->datasets)\n",
            "  Downloading fsspec-2025.3.0-py3-none-any.whl.metadata (11 kB)\n",
            "Requirement already satisfied: huggingface-hub>=0.24.0 in /usr/local/lib/python3.11/dist-packages (from datasets) (0.32.4)\n",
            "Requirement already satisfied: packaging in /usr/local/lib/python3.11/dist-packages (from datasets) (24.2)\n",
            "Requirement already satisfied: pyyaml>=5.1 in /usr/local/lib/python3.11/dist-packages (from datasets) (6.0.2)\n",
            "Requirement already satisfied: aiohttp!=4.0.0a0,!=4.0.0a1 in /usr/local/lib/python3.11/dist-packages (from fsspec[http]<=2025.3.0,>=2023.1.0->datasets) (3.11.15)\n",
            "Requirement already satisfied: typing-extensions>=3.7.4.3 in /usr/local/lib/python3.11/dist-packages (from huggingface-hub>=0.24.0->datasets) (4.14.0)\n",
            "Requirement already satisfied: hf-xet<2.0.0,>=1.1.2 in /usr/local/lib/python3.11/dist-packages (from huggingface-hub>=0.24.0->datasets) (1.1.2)\n",
            "Requirement already satisfied: charset-normalizer<4,>=2 in /usr/local/lib/python3.11/dist-packages (from requests>=2.32.2->datasets) (3.4.2)\n",
            "Requirement already satisfied: idna<4,>=2.5 in /usr/local/lib/python3.11/dist-packages (from requests>=2.32.2->datasets) (3.10)\n",
            "Requirement already satisfied: urllib3<3,>=1.21.1 in /usr/local/lib/python3.11/dist-packages (from requests>=2.32.2->datasets) (2.4.0)\n",
            "Requirement already satisfied: certifi>=2017.4.17 in /usr/local/lib/python3.11/dist-packages (from requests>=2.32.2->datasets) (2025.4.26)\n",
            "Requirement already satisfied: python-dateutil>=2.8.2 in /usr/local/lib/python3.11/dist-packages (from pandas->datasets) (2.9.0.post0)\n",
            "Requirement already satisfied: pytz>=2020.1 in /usr/local/lib/python3.11/dist-packages (from pandas->datasets) (2025.2)\n",
            "Requirement already satisfied: tzdata>=2022.7 in /usr/local/lib/python3.11/dist-packages (from pandas->datasets) (2025.2)\n",
            "Requirement already satisfied: aiohappyeyeballs>=2.3.0 in /usr/local/lib/python3.11/dist-packages (from aiohttp!=4.0.0a0,!=4.0.0a1->fsspec[http]<=2025.3.0,>=2023.1.0->datasets) (2.6.1)\n",
            "Requirement already satisfied: aiosignal>=1.1.2 in /usr/local/lib/python3.11/dist-packages (from aiohttp!=4.0.0a0,!=4.0.0a1->fsspec[http]<=2025.3.0,>=2023.1.0->datasets) (1.3.2)\n",
            "Requirement already satisfied: attrs>=17.3.0 in /usr/local/lib/python3.11/dist-packages (from aiohttp!=4.0.0a0,!=4.0.0a1->fsspec[http]<=2025.3.0,>=2023.1.0->datasets) (25.3.0)\n",
            "Requirement already satisfied: frozenlist>=1.1.1 in /usr/local/lib/python3.11/dist-packages (from aiohttp!=4.0.0a0,!=4.0.0a1->fsspec[http]<=2025.3.0,>=2023.1.0->datasets) (1.6.0)\n",
            "Requirement already satisfied: multidict<7.0,>=4.5 in /usr/local/lib/python3.11/dist-packages (from aiohttp!=4.0.0a0,!=4.0.0a1->fsspec[http]<=2025.3.0,>=2023.1.0->datasets) (6.4.4)\n",
            "Requirement already satisfied: propcache>=0.2.0 in /usr/local/lib/python3.11/dist-packages (from aiohttp!=4.0.0a0,!=4.0.0a1->fsspec[http]<=2025.3.0,>=2023.1.0->datasets) (0.3.1)\n",
            "Requirement already satisfied: yarl<2.0,>=1.17.0 in /usr/local/lib/python3.11/dist-packages (from aiohttp!=4.0.0a0,!=4.0.0a1->fsspec[http]<=2025.3.0,>=2023.1.0->datasets) (1.20.0)\n",
            "Requirement already satisfied: six>=1.5 in /usr/local/lib/python3.11/dist-packages (from python-dateutil>=2.8.2->pandas->datasets) (1.17.0)\n",
            "Downloading datasets-3.6.0-py3-none-any.whl (491 kB)\n",
            "\u001b[2K   \u001b[90m━━━━━━━━━━━━━━━━━━━━━━━━━━━━━━━━━━━━━━━━\u001b[0m \u001b[32m491.5/491.5 kB\u001b[0m \u001b[31m5.9 MB/s\u001b[0m eta \u001b[36m0:00:00\u001b[0m\n",
            "\u001b[?25hDownloading fsspec-2025.3.0-py3-none-any.whl (193 kB)\n",
            "\u001b[2K   \u001b[90m━━━━━━━━━━━━━━━━━━━━━━━━━━━━━━━━━━━━━━━━\u001b[0m \u001b[32m193.6/193.6 kB\u001b[0m \u001b[31m17.8 MB/s\u001b[0m eta \u001b[36m0:00:00\u001b[0m\n",
            "\u001b[?25hInstalling collected packages: fsspec, datasets\n",
            "  Attempting uninstall: fsspec\n",
            "    Found existing installation: fsspec 2025.3.2\n",
            "    Uninstalling fsspec-2025.3.2:\n",
            "      Successfully uninstalled fsspec-2025.3.2\n",
            "\u001b[31mERROR: pip's dependency resolver does not currently take into account all the packages that are installed. This behaviour is the source of the following dependency conflicts.\n",
            "gcsfs 2025.3.2 requires fsspec==2025.3.2, but you have fsspec 2025.3.0 which is incompatible.\n",
            "torch 2.6.0+cu124 requires nvidia-cublas-cu12==12.4.5.8; platform_system == \"Linux\" and platform_machine == \"x86_64\", but you have nvidia-cublas-cu12 12.5.3.2 which is incompatible.\n",
            "torch 2.6.0+cu124 requires nvidia-cuda-cupti-cu12==12.4.127; platform_system == \"Linux\" and platform_machine == \"x86_64\", but you have nvidia-cuda-cupti-cu12 12.5.82 which is incompatible.\n",
            "torch 2.6.0+cu124 requires nvidia-cuda-nvrtc-cu12==12.4.127; platform_system == \"Linux\" and platform_machine == \"x86_64\", but you have nvidia-cuda-nvrtc-cu12 12.5.82 which is incompatible.\n",
            "torch 2.6.0+cu124 requires nvidia-cuda-runtime-cu12==12.4.127; platform_system == \"Linux\" and platform_machine == \"x86_64\", but you have nvidia-cuda-runtime-cu12 12.5.82 which is incompatible.\n",
            "torch 2.6.0+cu124 requires nvidia-cudnn-cu12==9.1.0.70; platform_system == \"Linux\" and platform_machine == \"x86_64\", but you have nvidia-cudnn-cu12 9.3.0.75 which is incompatible.\n",
            "torch 2.6.0+cu124 requires nvidia-cufft-cu12==11.2.1.3; platform_system == \"Linux\" and platform_machine == \"x86_64\", but you have nvidia-cufft-cu12 11.2.3.61 which is incompatible.\n",
            "torch 2.6.0+cu124 requires nvidia-curand-cu12==10.3.5.147; platform_system == \"Linux\" and platform_machine == \"x86_64\", but you have nvidia-curand-cu12 10.3.6.82 which is incompatible.\n",
            "torch 2.6.0+cu124 requires nvidia-cusolver-cu12==11.6.1.9; platform_system == \"Linux\" and platform_machine == \"x86_64\", but you have nvidia-cusolver-cu12 11.6.3.83 which is incompatible.\n",
            "torch 2.6.0+cu124 requires nvidia-cusparse-cu12==12.3.1.170; platform_system == \"Linux\" and platform_machine == \"x86_64\", but you have nvidia-cusparse-cu12 12.5.1.3 which is incompatible.\n",
            "torch 2.6.0+cu124 requires nvidia-nvjitlink-cu12==12.4.127; platform_system == \"Linux\" and platform_machine == \"x86_64\", but you have nvidia-nvjitlink-cu12 12.5.82 which is incompatible.\u001b[0m\u001b[31m\n",
            "\u001b[0mSuccessfully installed datasets-3.6.0 fsspec-2025.3.0\n"
          ]
        }
      ]
    },
    {
      "cell_type": "code",
      "execution_count": null,
      "metadata": {
        "id": "_jHZnSPOT-xU"
      },
      "outputs": [],
      "source": [
        "from datasets import load_dataset\n",
        "import pandas as pd"
      ]
    },
    {
      "cell_type": "code",
      "source": [
        "ds1 = load_dataset(\"shmuhammad/AfriSenti-twitter-sentiment\", \"ary\")\n",
        "type(ds1)"
      ],
      "metadata": {
        "colab": {
          "base_uri": "https://localhost:8080/"
        },
        "id": "fHUZd41_UJex",
        "outputId": "9e8eaa02-4fe7-49ea-8514-294e943a0a27"
      },
      "execution_count": null,
      "outputs": [
        {
          "output_type": "execute_result",
          "data": {
            "text/plain": [
              "datasets.dataset_dict.DatasetDict"
            ]
          },
          "metadata": {},
          "execution_count": 40
        }
      ]
    },
    {
      "cell_type": "code",
      "source": [
        "ds1.align_labels_with_mapping"
      ],
      "metadata": {
        "colab": {
          "base_uri": "https://localhost:8080/",
          "height": 186
        },
        "id": "HKVlaa1ZUOct",
        "outputId": "b656ae01-3691-43a8-aa4e-465392ecbd1f"
      },
      "execution_count": null,
      "outputs": [
        {
          "output_type": "execute_result",
          "data": {
            "text/plain": [
              "<bound method DatasetDict.align_labels_with_mapping of DatasetDict({\n",
              "    train: Dataset({\n",
              "        features: ['tweet', 'label'],\n",
              "        num_rows: 5583\n",
              "    })\n",
              "    validation: Dataset({\n",
              "        features: ['tweet', 'label'],\n",
              "        num_rows: 494\n",
              "    })\n",
              "    test: Dataset({\n",
              "        features: ['tweet', 'label'],\n",
              "        num_rows: 2961\n",
              "    })\n",
              "})>"
            ],
            "text/html": [
              "<div style=\"max-width:800px; border: 1px solid var(--colab-border-color);\"><style>\n",
              "      pre.function-repr-contents {\n",
              "        overflow-x: auto;\n",
              "        padding: 8px 12px;\n",
              "        max-height: 500px;\n",
              "      }\n",
              "\n",
              "      pre.function-repr-contents.function-repr-contents-collapsed {\n",
              "        cursor: pointer;\n",
              "        max-height: 100px;\n",
              "      }\n",
              "    </style>\n",
              "    <pre style=\"white-space: initial; background:\n",
              "         var(--colab-secondary-surface-color); padding: 8px 12px;\n",
              "         border-bottom: 1px solid var(--colab-border-color);\"><b>datasets.dataset_dict.DatasetDict.align_labels_with_mapping</b><br/>def align_labels_with_mapping(label2id: dict, label_column: str) -&gt; &#x27;DatasetDict&#x27;</pre><pre class=\"function-repr-contents function-repr-contents-collapsed\" style=\"\"><a class=\"filepath\" style=\"display:none\" href=\"#\">/usr/local/lib/python3.11/dist-packages/datasets/dataset_dict.py</a>Align the dataset&#x27;s label ID and label name mapping to match an input `label2id` mapping.\n",
              "This is useful when you want to ensure that a model&#x27;s predicted labels are aligned with the dataset.\n",
              "The alignment in done using the lowercase label names.\n",
              "\n",
              "Args:\n",
              "    label2id (`dict`):\n",
              "        The label name to ID mapping to align the dataset with.\n",
              "    label_column (`str`):\n",
              "        The column name of labels to align on.\n",
              "\n",
              "Example:\n",
              "\n",
              "```python\n",
              "&gt;&gt;&gt; # dataset with mapping {&#x27;entailment&#x27;: 0, &#x27;neutral&#x27;: 1, &#x27;contradiction&#x27;: 2}\n",
              "&gt;&gt;&gt; ds = load_dataset(&quot;nyu-mll/glue&quot;, &quot;mnli&quot;, split=&quot;train&quot;)\n",
              "&gt;&gt;&gt; # mapping to align with\n",
              "&gt;&gt;&gt; label2id = {&#x27;CONTRADICTION&#x27;: 0, &#x27;NEUTRAL&#x27;: 1, &#x27;ENTAILMENT&#x27;: 2}\n",
              "&gt;&gt;&gt; ds_aligned = ds.align_labels_with_mapping(label2id, &quot;label&quot;)\n",
              "```</pre>\n",
              "      <script>\n",
              "      if (google.colab.kernel.accessAllowed && google.colab.files && google.colab.files.view) {\n",
              "        for (const element of document.querySelectorAll('.filepath')) {\n",
              "          element.style.display = 'block'\n",
              "          element.onclick = (event) => {\n",
              "            event.preventDefault();\n",
              "            event.stopPropagation();\n",
              "            google.colab.files.view(element.textContent, 1594);\n",
              "          };\n",
              "        }\n",
              "      }\n",
              "      for (const element of document.querySelectorAll('.function-repr-contents')) {\n",
              "        element.onclick = (event) => {\n",
              "          event.preventDefault();\n",
              "          event.stopPropagation();\n",
              "          element.classList.toggle('function-repr-contents-collapsed');\n",
              "        };\n",
              "      }\n",
              "      </script>\n",
              "      </div>"
            ]
          },
          "metadata": {},
          "execution_count": 41
        }
      ]
    },
    {
      "cell_type": "code",
      "source": [
        "ds1.keys()"
      ],
      "metadata": {
        "colab": {
          "base_uri": "https://localhost:8080/"
        },
        "id": "a0TjHRQoUxNm",
        "outputId": "4a3f824f-544d-435c-b2fc-47a3be03aac1"
      },
      "execution_count": null,
      "outputs": [
        {
          "output_type": "execute_result",
          "data": {
            "text/plain": [
              "dict_keys(['train', 'validation', 'test'])"
            ]
          },
          "metadata": {},
          "execution_count": 42
        }
      ]
    },
    {
      "cell_type": "code",
      "source": [
        "dataframes = {split: pd.DataFrame(ds1[split]) for split in ds1.keys()}\n",
        "\n",
        "# Access individual DataFrames\n",
        "train_df = dataframes['train']\n",
        "validation_df = dataframes.get('validation')  # Using get() in case it doesn't exist\n",
        "test_df = dataframes.get('test')"
      ],
      "metadata": {
        "id": "Ve0jSX05U0tS"
      },
      "execution_count": null,
      "outputs": []
    },
    {
      "cell_type": "code",
      "source": [
        "train_df"
      ],
      "metadata": {
        "colab": {
          "base_uri": "https://localhost:8080/",
          "height": 423
        },
        "id": "frMidG8CU3Kz",
        "outputId": "7a93b26b-6978-469d-d84e-1cddd9d26e0c"
      },
      "execution_count": null,
      "outputs": [
        {
          "output_type": "execute_result",
          "data": {
            "text/plain": [
              "                                                  tweet  label\n",
              "0     hhhhhhhhhhhhhhhhhhhhhh ana ga3ma sma3tt ach ka...      1\n",
              "1     hhhh hardart jomhorha la fi3lan kadahko lach m...      1\n",
              "2     : أتفهم العثماني وأتفهم الجدل الشعبي. الحل: حا...      1\n",
              "3                                   كان افظل حاكم عربي'      0\n",
              "4     ماريانو راخوي : خاص المغرب واسبانيا يشرحو للرأ...      1\n",
              "...                                                 ...    ...\n",
              "5578            wah akhouya titiz o dikchi 3la 9ad lhal      1\n",
              "5579  soukaina dik nhar drt follow haydato o 9lt f k...      1\n",
              "5580                kiban liya stormy kid7ak mn hna ana      1\n",
              "5581            woww ghadi tefra7 bzzf thank uu aaliaaa      0\n",
              "5582  الواقع وهوأن هؤلاء دخلوا مستنقعا لن يخرجوا منه...      2\n",
              "\n",
              "[5583 rows x 2 columns]"
            ],
            "text/html": [
              "\n",
              "  <div id=\"df-f8f36856-52b3-4241-b1d3-b123d3a67e7c\" class=\"colab-df-container\">\n",
              "    <div>\n",
              "<style scoped>\n",
              "    .dataframe tbody tr th:only-of-type {\n",
              "        vertical-align: middle;\n",
              "    }\n",
              "\n",
              "    .dataframe tbody tr th {\n",
              "        vertical-align: top;\n",
              "    }\n",
              "\n",
              "    .dataframe thead th {\n",
              "        text-align: right;\n",
              "    }\n",
              "</style>\n",
              "<table border=\"1\" class=\"dataframe\">\n",
              "  <thead>\n",
              "    <tr style=\"text-align: right;\">\n",
              "      <th></th>\n",
              "      <th>tweet</th>\n",
              "      <th>label</th>\n",
              "    </tr>\n",
              "  </thead>\n",
              "  <tbody>\n",
              "    <tr>\n",
              "      <th>0</th>\n",
              "      <td>hhhhhhhhhhhhhhhhhhhhhh ana ga3ma sma3tt ach ka...</td>\n",
              "      <td>1</td>\n",
              "    </tr>\n",
              "    <tr>\n",
              "      <th>1</th>\n",
              "      <td>hhhh hardart jomhorha la fi3lan kadahko lach m...</td>\n",
              "      <td>1</td>\n",
              "    </tr>\n",
              "    <tr>\n",
              "      <th>2</th>\n",
              "      <td>: أتفهم العثماني وأتفهم الجدل الشعبي. الحل: حا...</td>\n",
              "      <td>1</td>\n",
              "    </tr>\n",
              "    <tr>\n",
              "      <th>3</th>\n",
              "      <td>كان افظل حاكم عربي'</td>\n",
              "      <td>0</td>\n",
              "    </tr>\n",
              "    <tr>\n",
              "      <th>4</th>\n",
              "      <td>ماريانو راخوي : خاص المغرب واسبانيا يشرحو للرأ...</td>\n",
              "      <td>1</td>\n",
              "    </tr>\n",
              "    <tr>\n",
              "      <th>...</th>\n",
              "      <td>...</td>\n",
              "      <td>...</td>\n",
              "    </tr>\n",
              "    <tr>\n",
              "      <th>5578</th>\n",
              "      <td>wah akhouya titiz o dikchi 3la 9ad lhal</td>\n",
              "      <td>1</td>\n",
              "    </tr>\n",
              "    <tr>\n",
              "      <th>5579</th>\n",
              "      <td>soukaina dik nhar drt follow haydato o 9lt f k...</td>\n",
              "      <td>1</td>\n",
              "    </tr>\n",
              "    <tr>\n",
              "      <th>5580</th>\n",
              "      <td>kiban liya stormy kid7ak mn hna ana</td>\n",
              "      <td>1</td>\n",
              "    </tr>\n",
              "    <tr>\n",
              "      <th>5581</th>\n",
              "      <td>woww ghadi tefra7 bzzf thank uu aaliaaa</td>\n",
              "      <td>0</td>\n",
              "    </tr>\n",
              "    <tr>\n",
              "      <th>5582</th>\n",
              "      <td>الواقع وهوأن هؤلاء دخلوا مستنقعا لن يخرجوا منه...</td>\n",
              "      <td>2</td>\n",
              "    </tr>\n",
              "  </tbody>\n",
              "</table>\n",
              "<p>5583 rows × 2 columns</p>\n",
              "</div>\n",
              "    <div class=\"colab-df-buttons\">\n",
              "\n",
              "  <div class=\"colab-df-container\">\n",
              "    <button class=\"colab-df-convert\" onclick=\"convertToInteractive('df-f8f36856-52b3-4241-b1d3-b123d3a67e7c')\"\n",
              "            title=\"Convert this dataframe to an interactive table.\"\n",
              "            style=\"display:none;\">\n",
              "\n",
              "  <svg xmlns=\"http://www.w3.org/2000/svg\" height=\"24px\" viewBox=\"0 -960 960 960\">\n",
              "    <path d=\"M120-120v-720h720v720H120Zm60-500h600v-160H180v160Zm220 220h160v-160H400v160Zm0 220h160v-160H400v160ZM180-400h160v-160H180v160Zm440 0h160v-160H620v160ZM180-180h160v-160H180v160Zm440 0h160v-160H620v160Z\"/>\n",
              "  </svg>\n",
              "    </button>\n",
              "\n",
              "  <style>\n",
              "    .colab-df-container {\n",
              "      display:flex;\n",
              "      gap: 12px;\n",
              "    }\n",
              "\n",
              "    .colab-df-convert {\n",
              "      background-color: #E8F0FE;\n",
              "      border: none;\n",
              "      border-radius: 50%;\n",
              "      cursor: pointer;\n",
              "      display: none;\n",
              "      fill: #1967D2;\n",
              "      height: 32px;\n",
              "      padding: 0 0 0 0;\n",
              "      width: 32px;\n",
              "    }\n",
              "\n",
              "    .colab-df-convert:hover {\n",
              "      background-color: #E2EBFA;\n",
              "      box-shadow: 0px 1px 2px rgba(60, 64, 67, 0.3), 0px 1px 3px 1px rgba(60, 64, 67, 0.15);\n",
              "      fill: #174EA6;\n",
              "    }\n",
              "\n",
              "    .colab-df-buttons div {\n",
              "      margin-bottom: 4px;\n",
              "    }\n",
              "\n",
              "    [theme=dark] .colab-df-convert {\n",
              "      background-color: #3B4455;\n",
              "      fill: #D2E3FC;\n",
              "    }\n",
              "\n",
              "    [theme=dark] .colab-df-convert:hover {\n",
              "      background-color: #434B5C;\n",
              "      box-shadow: 0px 1px 3px 1px rgba(0, 0, 0, 0.15);\n",
              "      filter: drop-shadow(0px 1px 2px rgba(0, 0, 0, 0.3));\n",
              "      fill: #FFFFFF;\n",
              "    }\n",
              "  </style>\n",
              "\n",
              "    <script>\n",
              "      const buttonEl =\n",
              "        document.querySelector('#df-f8f36856-52b3-4241-b1d3-b123d3a67e7c button.colab-df-convert');\n",
              "      buttonEl.style.display =\n",
              "        google.colab.kernel.accessAllowed ? 'block' : 'none';\n",
              "\n",
              "      async function convertToInteractive(key) {\n",
              "        const element = document.querySelector('#df-f8f36856-52b3-4241-b1d3-b123d3a67e7c');\n",
              "        const dataTable =\n",
              "          await google.colab.kernel.invokeFunction('convertToInteractive',\n",
              "                                                    [key], {});\n",
              "        if (!dataTable) return;\n",
              "\n",
              "        const docLinkHtml = 'Like what you see? Visit the ' +\n",
              "          '<a target=\"_blank\" href=https://colab.research.google.com/notebooks/data_table.ipynb>data table notebook</a>'\n",
              "          + ' to learn more about interactive tables.';\n",
              "        element.innerHTML = '';\n",
              "        dataTable['output_type'] = 'display_data';\n",
              "        await google.colab.output.renderOutput(dataTable, element);\n",
              "        const docLink = document.createElement('div');\n",
              "        docLink.innerHTML = docLinkHtml;\n",
              "        element.appendChild(docLink);\n",
              "      }\n",
              "    </script>\n",
              "  </div>\n",
              "\n",
              "\n",
              "    <div id=\"df-b3b496d3-098d-4085-91ed-dae10c560c68\">\n",
              "      <button class=\"colab-df-quickchart\" onclick=\"quickchart('df-b3b496d3-098d-4085-91ed-dae10c560c68')\"\n",
              "                title=\"Suggest charts\"\n",
              "                style=\"display:none;\">\n",
              "\n",
              "<svg xmlns=\"http://www.w3.org/2000/svg\" height=\"24px\"viewBox=\"0 0 24 24\"\n",
              "     width=\"24px\">\n",
              "    <g>\n",
              "        <path d=\"M19 3H5c-1.1 0-2 .9-2 2v14c0 1.1.9 2 2 2h14c1.1 0 2-.9 2-2V5c0-1.1-.9-2-2-2zM9 17H7v-7h2v7zm4 0h-2V7h2v10zm4 0h-2v-4h2v4z\"/>\n",
              "    </g>\n",
              "</svg>\n",
              "      </button>\n",
              "\n",
              "<style>\n",
              "  .colab-df-quickchart {\n",
              "      --bg-color: #E8F0FE;\n",
              "      --fill-color: #1967D2;\n",
              "      --hover-bg-color: #E2EBFA;\n",
              "      --hover-fill-color: #174EA6;\n",
              "      --disabled-fill-color: #AAA;\n",
              "      --disabled-bg-color: #DDD;\n",
              "  }\n",
              "\n",
              "  [theme=dark] .colab-df-quickchart {\n",
              "      --bg-color: #3B4455;\n",
              "      --fill-color: #D2E3FC;\n",
              "      --hover-bg-color: #434B5C;\n",
              "      --hover-fill-color: #FFFFFF;\n",
              "      --disabled-bg-color: #3B4455;\n",
              "      --disabled-fill-color: #666;\n",
              "  }\n",
              "\n",
              "  .colab-df-quickchart {\n",
              "    background-color: var(--bg-color);\n",
              "    border: none;\n",
              "    border-radius: 50%;\n",
              "    cursor: pointer;\n",
              "    display: none;\n",
              "    fill: var(--fill-color);\n",
              "    height: 32px;\n",
              "    padding: 0;\n",
              "    width: 32px;\n",
              "  }\n",
              "\n",
              "  .colab-df-quickchart:hover {\n",
              "    background-color: var(--hover-bg-color);\n",
              "    box-shadow: 0 1px 2px rgba(60, 64, 67, 0.3), 0 1px 3px 1px rgba(60, 64, 67, 0.15);\n",
              "    fill: var(--button-hover-fill-color);\n",
              "  }\n",
              "\n",
              "  .colab-df-quickchart-complete:disabled,\n",
              "  .colab-df-quickchart-complete:disabled:hover {\n",
              "    background-color: var(--disabled-bg-color);\n",
              "    fill: var(--disabled-fill-color);\n",
              "    box-shadow: none;\n",
              "  }\n",
              "\n",
              "  .colab-df-spinner {\n",
              "    border: 2px solid var(--fill-color);\n",
              "    border-color: transparent;\n",
              "    border-bottom-color: var(--fill-color);\n",
              "    animation:\n",
              "      spin 1s steps(1) infinite;\n",
              "  }\n",
              "\n",
              "  @keyframes spin {\n",
              "    0% {\n",
              "      border-color: transparent;\n",
              "      border-bottom-color: var(--fill-color);\n",
              "      border-left-color: var(--fill-color);\n",
              "    }\n",
              "    20% {\n",
              "      border-color: transparent;\n",
              "      border-left-color: var(--fill-color);\n",
              "      border-top-color: var(--fill-color);\n",
              "    }\n",
              "    30% {\n",
              "      border-color: transparent;\n",
              "      border-left-color: var(--fill-color);\n",
              "      border-top-color: var(--fill-color);\n",
              "      border-right-color: var(--fill-color);\n",
              "    }\n",
              "    40% {\n",
              "      border-color: transparent;\n",
              "      border-right-color: var(--fill-color);\n",
              "      border-top-color: var(--fill-color);\n",
              "    }\n",
              "    60% {\n",
              "      border-color: transparent;\n",
              "      border-right-color: var(--fill-color);\n",
              "    }\n",
              "    80% {\n",
              "      border-color: transparent;\n",
              "      border-right-color: var(--fill-color);\n",
              "      border-bottom-color: var(--fill-color);\n",
              "    }\n",
              "    90% {\n",
              "      border-color: transparent;\n",
              "      border-bottom-color: var(--fill-color);\n",
              "    }\n",
              "  }\n",
              "</style>\n",
              "\n",
              "      <script>\n",
              "        async function quickchart(key) {\n",
              "          const quickchartButtonEl =\n",
              "            document.querySelector('#' + key + ' button');\n",
              "          quickchartButtonEl.disabled = true;  // To prevent multiple clicks.\n",
              "          quickchartButtonEl.classList.add('colab-df-spinner');\n",
              "          try {\n",
              "            const charts = await google.colab.kernel.invokeFunction(\n",
              "                'suggestCharts', [key], {});\n",
              "          } catch (error) {\n",
              "            console.error('Error during call to suggestCharts:', error);\n",
              "          }\n",
              "          quickchartButtonEl.classList.remove('colab-df-spinner');\n",
              "          quickchartButtonEl.classList.add('colab-df-quickchart-complete');\n",
              "        }\n",
              "        (() => {\n",
              "          let quickchartButtonEl =\n",
              "            document.querySelector('#df-b3b496d3-098d-4085-91ed-dae10c560c68 button');\n",
              "          quickchartButtonEl.style.display =\n",
              "            google.colab.kernel.accessAllowed ? 'block' : 'none';\n",
              "        })();\n",
              "      </script>\n",
              "    </div>\n",
              "\n",
              "  <div id=\"id_afe52d09-80d8-42c5-8708-3f5a115efd31\">\n",
              "    <style>\n",
              "      .colab-df-generate {\n",
              "        background-color: #E8F0FE;\n",
              "        border: none;\n",
              "        border-radius: 50%;\n",
              "        cursor: pointer;\n",
              "        display: none;\n",
              "        fill: #1967D2;\n",
              "        height: 32px;\n",
              "        padding: 0 0 0 0;\n",
              "        width: 32px;\n",
              "      }\n",
              "\n",
              "      .colab-df-generate:hover {\n",
              "        background-color: #E2EBFA;\n",
              "        box-shadow: 0px 1px 2px rgba(60, 64, 67, 0.3), 0px 1px 3px 1px rgba(60, 64, 67, 0.15);\n",
              "        fill: #174EA6;\n",
              "      }\n",
              "\n",
              "      [theme=dark] .colab-df-generate {\n",
              "        background-color: #3B4455;\n",
              "        fill: #D2E3FC;\n",
              "      }\n",
              "\n",
              "      [theme=dark] .colab-df-generate:hover {\n",
              "        background-color: #434B5C;\n",
              "        box-shadow: 0px 1px 3px 1px rgba(0, 0, 0, 0.15);\n",
              "        filter: drop-shadow(0px 1px 2px rgba(0, 0, 0, 0.3));\n",
              "        fill: #FFFFFF;\n",
              "      }\n",
              "    </style>\n",
              "    <button class=\"colab-df-generate\" onclick=\"generateWithVariable('train_df')\"\n",
              "            title=\"Generate code using this dataframe.\"\n",
              "            style=\"display:none;\">\n",
              "\n",
              "  <svg xmlns=\"http://www.w3.org/2000/svg\" height=\"24px\"viewBox=\"0 0 24 24\"\n",
              "       width=\"24px\">\n",
              "    <path d=\"M7,19H8.4L18.45,9,17,7.55,7,17.6ZM5,21V16.75L18.45,3.32a2,2,0,0,1,2.83,0l1.4,1.43a1.91,1.91,0,0,1,.58,1.4,1.91,1.91,0,0,1-.58,1.4L9.25,21ZM18.45,9,17,7.55Zm-12,3A5.31,5.31,0,0,0,4.9,8.1,5.31,5.31,0,0,0,1,6.5,5.31,5.31,0,0,0,4.9,4.9,5.31,5.31,0,0,0,6.5,1,5.31,5.31,0,0,0,8.1,4.9,5.31,5.31,0,0,0,12,6.5,5.46,5.46,0,0,0,6.5,12Z\"/>\n",
              "  </svg>\n",
              "    </button>\n",
              "    <script>\n",
              "      (() => {\n",
              "      const buttonEl =\n",
              "        document.querySelector('#id_afe52d09-80d8-42c5-8708-3f5a115efd31 button.colab-df-generate');\n",
              "      buttonEl.style.display =\n",
              "        google.colab.kernel.accessAllowed ? 'block' : 'none';\n",
              "\n",
              "      buttonEl.onclick = () => {\n",
              "        google.colab.notebook.generateWithVariable('train_df');\n",
              "      }\n",
              "      })();\n",
              "    </script>\n",
              "  </div>\n",
              "\n",
              "    </div>\n",
              "  </div>\n"
            ],
            "application/vnd.google.colaboratory.intrinsic+json": {
              "type": "dataframe",
              "variable_name": "train_df",
              "summary": "{\n  \"name\": \"train_df\",\n  \"rows\": 5583,\n  \"fields\": [\n    {\n      \"column\": \"tweet\",\n      \"properties\": {\n        \"dtype\": \"string\",\n        \"num_unique_values\": 5563,\n        \"samples\": [\n          \"bghit n9ol lyom wla tnin jay\",\n          \"\\u0623\\u0642\\u0640\\u0648\\u0644: \\u0645\\u0644\\u0643\\u0646\\u0627 \\u0648\\u0627\\u062d\\u062f\\u060c\\u060c \\u0645\\u062d\\u0645\\u0640\\u062f '\",\n          \"\\u0627\\u0644\\u062a\\u0633\\u0627\\u0645\\u062d \\u0648\\u0627\\u0644\\u0639\\u0641\\u0648 \\u0645\\u0646 \\u0627\\u0644\\u0642\\u064a\\u0645 \\u0627\\u0644\\u0625\\u0633\\u0644\\u0627\\u0645\\u064a\\u0629 \\u0627\\u0644\\u0631\\u0641\\u064a\\u0639\\u0629'\"\n        ],\n        \"semantic_type\": \"\",\n        \"description\": \"\"\n      }\n    },\n    {\n      \"column\": \"label\",\n      \"properties\": {\n        \"dtype\": \"number\",\n        \"std\": 0,\n        \"min\": 0,\n        \"max\": 2,\n        \"num_unique_values\": 3,\n        \"samples\": [\n          1,\n          0,\n          2\n        ],\n        \"semantic_type\": \"\",\n        \"description\": \"\"\n      }\n    }\n  ]\n}"
            }
          },
          "metadata": {},
          "execution_count": 44
        }
      ]
    },
    {
      "cell_type": "code",
      "source": [
        "train_df['label'].value_counts()   ## 0: pos, 1: neutre, 2: neg"
      ],
      "metadata": {
        "colab": {
          "base_uri": "https://localhost:8080/",
          "height": 209
        },
        "id": "oVRHeYs4U5Xe",
        "outputId": "e7d864eb-3138-4262-89f3-7d3b7495efd1"
      },
      "execution_count": null,
      "outputs": [
        {
          "output_type": "execute_result",
          "data": {
            "text/plain": [
              "label\n",
              "1    2161\n",
              "0    1758\n",
              "2    1664\n",
              "Name: count, dtype: int64"
            ],
            "text/html": [
              "<div>\n",
              "<style scoped>\n",
              "    .dataframe tbody tr th:only-of-type {\n",
              "        vertical-align: middle;\n",
              "    }\n",
              "\n",
              "    .dataframe tbody tr th {\n",
              "        vertical-align: top;\n",
              "    }\n",
              "\n",
              "    .dataframe thead th {\n",
              "        text-align: right;\n",
              "    }\n",
              "</style>\n",
              "<table border=\"1\" class=\"dataframe\">\n",
              "  <thead>\n",
              "    <tr style=\"text-align: right;\">\n",
              "      <th></th>\n",
              "      <th>count</th>\n",
              "    </tr>\n",
              "    <tr>\n",
              "      <th>label</th>\n",
              "      <th></th>\n",
              "    </tr>\n",
              "  </thead>\n",
              "  <tbody>\n",
              "    <tr>\n",
              "      <th>1</th>\n",
              "      <td>2161</td>\n",
              "    </tr>\n",
              "    <tr>\n",
              "      <th>0</th>\n",
              "      <td>1758</td>\n",
              "    </tr>\n",
              "    <tr>\n",
              "      <th>2</th>\n",
              "      <td>1664</td>\n",
              "    </tr>\n",
              "  </tbody>\n",
              "</table>\n",
              "</div><br><label><b>dtype:</b> int64</label>"
            ]
          },
          "metadata": {},
          "execution_count": 45
        }
      ]
    },
    {
      "cell_type": "code",
      "source": [
        "import re\n",
        "\n",
        "def clean_tweet(text):\n",
        "    if pd.isna(text):  # Handle NaN values\n",
        "        return \"\"\n",
        "    text = str(text)  # Ensure it's a string\n",
        "    text = re.sub(r\"http\\S+|www\\S+\", \"\", text)  # remove URLs\n",
        "    text = re.sub(r\"@\\w+\", \"\", text)            # remove mentions\n",
        "    text = re.sub(r\"#(\\w+)\", r\"\\1\", text)       # remove hashtags but keep word\n",
        "    text = re.sub(r\"\\d+\", \"\", text)             # remove digits\n",
        "    text = re.sub(r\"\\s+\", \" \", text).strip()    # remove extra spaces\n",
        "    return text\n",
        "\n",
        "# Apply cleaning using the correct column name 'tweet'\n",
        "train_df['clean_text'] = train_df['tweet'].apply(clean_tweet)\n",
        "validation_df['clean_text'] = validation_df['tweet'].apply(clean_tweet)\n",
        "test_df['clean_text'] = test_df['tweet'].apply(clean_tweet)\n",
        "\n",
        "print(\"Cleaning completed!\")\n",
        "print(f\"Train set: {len(train_df)} samples\")\n",
        "print(f\"Validation set: {len(validation_df)} samples\")\n",
        "print(f\"Test set: {len(test_df)} samples\")\n",
        "\n",
        "# Check the results\n",
        "print(\"\\nExample of original vs cleaned text:\")\n",
        "for i in range(3):\n",
        "    print(f\"Original: {train_df.iloc[i]['tweet']}\")\n",
        "    print(f\"Cleaned:  {train_df.iloc[i]['clean_text']}\")\n",
        "    print(f\"Label:    {train_df.iloc[i]['label']}\")\n",
        "    print(\"-\" * 50)"
      ],
      "metadata": {
        "colab": {
          "base_uri": "https://localhost:8080/"
        },
        "id": "R2JzlshrU-t_",
        "outputId": "dbc3ccce-4437-45eb-d209-114c8d4d5f0e"
      },
      "execution_count": null,
      "outputs": [
        {
          "output_type": "stream",
          "name": "stdout",
          "text": [
            "Cleaning completed!\n",
            "Train set: 5583 samples\n",
            "Validation set: 494 samples\n",
            "Test set: 2961 samples\n",
            "\n",
            "Example of original vs cleaned text:\n",
            "Original: hhhhhhhhhhhhhhhhhhhhhh ana ga3ma sma3tt ach kant kat9oll kanrakazz ghir m3a zineb oyassmin ochirine\n",
            "Cleaned:  hhhhhhhhhhhhhhhhhhhhhh ana gama smatt ach kant katoll kanrakazz ghir ma zineb oyassmin ochirine\n",
            "Label:    1\n",
            "--------------------------------------------------\n",
            "Original: hhhh hardart jomhorha la fi3lan kadahko lach mrakzin m3aha ama kayn bin li kaydir dakchi 3alanan ou li khbit bhal bohila\n",
            "Cleaned:  hhhh hardart jomhorha la filan kadahko lach mrakzin maha ama kayn bin li kaydir dakchi alanan ou li khbit bhal bohila\n",
            "Label:    1\n",
            "--------------------------------------------------\n",
            "Original: : أتفهم العثماني وأتفهم الجدل الشعبي. الحل: حان وقت تنزيل شامل للجهوية المتقدمة وتحمل المتخبين الجهوين لكامل صلاحياتهم لشرح تفا…\n",
            "Cleaned:  : أتفهم العثماني وأتفهم الجدل الشعبي. الحل: حان وقت تنزيل شامل للجهوية المتقدمة وتحمل المتخبين الجهوين لكامل صلاحياتهم لشرح تفا…\n",
            "Label:    1\n",
            "--------------------------------------------------\n"
          ]
        }
      ]
    },
    {
      "cell_type": "code",
      "source": [
        "label_mapping = {0: 'positive', 1: 'neutral', 2: 'negative'}\n",
        "train_df['label_text'] = train_df['label'].map(label_mapping)\n",
        "\n",
        "print(\"\\nLabel distribution with names:\")\n",
        "print(train_df['label_text'].value_counts())\n",
        "\n"
      ],
      "metadata": {
        "colab": {
          "base_uri": "https://localhost:8080/"
        },
        "id": "IvV9s8UtV55r",
        "outputId": "b70fcfec-4a8d-4ac2-d694-929119517020"
      },
      "execution_count": null,
      "outputs": [
        {
          "output_type": "stream",
          "name": "stdout",
          "text": [
            "\n",
            "Label distribution with names:\n",
            "label_text\n",
            "neutral     2161\n",
            "positive    1758\n",
            "negative    1664\n",
            "Name: count, dtype: int64\n"
          ]
        }
      ]
    },
    {
      "cell_type": "code",
      "source": [
        "# # Define the mapping\n",
        "# label_map = {0: 'positive', 1: 'neutral', 2: 'negative'}\n",
        "\n",
        "# # Get class distribution and identify majority/minority classes\n",
        "# class_counts = train_df['label'].value_counts().sort_index()\n",
        "# target_count = class_counts.max()\n",
        "# majority_class = class_counts.idxmax()\n",
        "\n",
        "# print(\"Current class distribution:\")\n",
        "# for label, count in class_counts.items():\n",
        "#     print(f\"  {label_map[label]} ({label}): {count}\")\n",
        "# print(f\"\\nMajority class: {label_map[majority_class]} with {target_count} samples\")\n",
        "\n",
        "# # Identify which classes need augmentation\n",
        "# classes_to_augment = []\n",
        "# for label in [0, 1, 2]:\n",
        "#     current_count = class_counts.get(label, 0)\n",
        "#     if current_count < target_count:\n",
        "#         needed = target_count - current_count\n",
        "#         classes_to_augment.append((label, needed))\n",
        "#         print(f\"Need to augment {label_map[label]} by {needed} samples\")\n",
        "\n",
        "# if not classes_to_augment:\n",
        "#     print(\"All classes are already balanced!\")\n",
        "# else:\n",
        "#     print(f\"\\nWill augment {len(classes_to_augment)} classes\")\n",
        "\n",
        "# # Import required libraries\n",
        "# import random\n",
        "# import pandas as pd\n",
        "# from sklearn.feature_extraction.text import TfidfVectorizer\n",
        "# from imblearn.over_sampling import SMOTE\n",
        "# import numpy as np\n",
        "\n",
        "# # Set random seed for reproducibility\n",
        "# random.seed(42)\n",
        "# np.random.seed(42)\n",
        "\n",
        "# def random_insertion(text, n=1):\n",
        "#     \"\"\"Insert common Arabic filler words\"\"\"\n",
        "#     words = text.split()\n",
        "#     if len(words) < 2:\n",
        "#         return text\n",
        "\n",
        "#     # Common Arabic/Darija filler words and particles\n",
        "#     fillers = ['يعني', 'بصراحة', 'والله', 'أكيد', 'طبعا', 'يا أخي', 'بزاف', 'شوية']\n",
        "\n",
        "#     for _ in range(n):\n",
        "#         if len(words) > 0:\n",
        "#             new_word = random.choice(fillers)\n",
        "#             random_idx = random.randint(0, len(words))\n",
        "#             words.insert(random_idx, new_word)\n",
        "\n",
        "#     return ' '.join(words)\n",
        "\n",
        "# def random_deletion(text, p=0.1):\n",
        "#     \"\"\"Randomly delete words with probability p\"\"\"\n",
        "#     words = text.split()\n",
        "#     if len(words) <= 2:  # Keep at least 2 words\n",
        "#         return text\n",
        "\n",
        "#     new_words = []\n",
        "#     for word in words:\n",
        "#         if random.uniform(0, 1) > p:\n",
        "#             new_words.append(word)\n",
        "\n",
        "#     return ' '.join(new_words) if len(new_words) > 1 else text\n",
        "\n",
        "# def shuffle_words(text, p=0.3):\n",
        "#     \"\"\"Slightly shuffle word order\"\"\"\n",
        "#     words = text.split()\n",
        "#     if len(words) < 3:\n",
        "#         return text\n",
        "\n",
        "#     if random.uniform(0, 1) < p:\n",
        "#         # Swap two adjacent words\n",
        "#         idx = random.randint(0, len(words)-2)\n",
        "#         words[idx], words[idx+1] = words[idx+1], words[idx]\n",
        "\n",
        "#     return ' '.join(words)\n",
        "\n",
        "# def augment_text_simple(text):\n",
        "#     \"\"\"Apply simple augmentation techniques\"\"\"\n",
        "#     techniques = [\n",
        "#         lambda x: random_deletion(x, p=0.1),\n",
        "#         lambda x: random_insertion(x, n=1),\n",
        "#         lambda x: shuffle_words(x, p=0.3)\n",
        "#     ]\n",
        "\n",
        "#     # Randomly choose one technique\n",
        "#     technique = random.choice(techniques)\n",
        "#     return technique(text)\n",
        "\n",
        "# # SMOTE-based augmentation function\n",
        "# def smote_text_augmentation(texts, labels, target_samples_per_class):\n",
        "#     \"\"\"Use SMOTE on TF-IDF vectors for text augmentation\"\"\"\n",
        "#     print(\"Applying SMOTE-based text augmentation...\")\n",
        "\n",
        "#     # Convert texts to TF-IDF vectors\n",
        "#     vectorizer = TfidfVectorizer(\n",
        "#         max_features=3000,\n",
        "#         ngram_range=(1, 2),\n",
        "#         min_df=2,\n",
        "#         stop_words=None  # Keep Arabic stop words for dialect preservation\n",
        "#     )\n",
        "\n",
        "#     X_tfidf = vectorizer.fit_transform(texts)\n",
        "\n",
        "#     # Apply SMOTE\n",
        "#     smote = SMOTE(random_state=42, k_neighbors=3)\n",
        "#     X_resampled, y_resampled = smote.fit_resample(X_tfidf, labels)\n",
        "\n",
        "#     return X_resampled, y_resampled, vectorizer\n",
        "\n",
        "# # Start augmentation process\n",
        "# augmented_rows = []\n",
        "\n",
        "# if classes_to_augment:\n",
        "#     # Prepare data for SMOTE\n",
        "#     minority_texts = []\n",
        "#     minority_labels = []\n",
        "\n",
        "#     for label, needed in classes_to_augment:\n",
        "#         subset = train_df[train_df['label'] == label]\n",
        "#         if len(subset) == 0:\n",
        "#             print(f\"Warning: No samples found for class {label}\")\n",
        "#             continue\n",
        "\n",
        "#         print(f\"\\nProcessing class {label_map[label]} ({label})...\")\n",
        "\n",
        "#         # For each sample in minority class, create multiple variations\n",
        "#         for _, row in subset.iterrows():\n",
        "#             text = row['clean_text']\n",
        "#             if not text or text.strip() == \"\":\n",
        "#                 continue\n",
        "\n",
        "#             # Create variations using simple augmentation\n",
        "#             variations_needed = min(3, needed // len(subset) + 1)\n",
        "\n",
        "#             for i in range(variations_needed):\n",
        "#                 if i == 0:\n",
        "#                     # Keep original\n",
        "#                     aug_text = text\n",
        "#                 else:\n",
        "#                     # Apply augmentation\n",
        "#                     aug_text = augment_text_simple(text)\n",
        "\n",
        "#                 minority_texts.append(aug_text)\n",
        "#                 minority_labels.append(label)\n",
        "\n",
        "#     # Apply SMOTE if we have enough samples\n",
        "#     if len(minority_texts) > 1:\n",
        "#         try:\n",
        "#             # Get all training texts and labels for SMOTE\n",
        "#             all_texts = train_df['clean_text'].tolist()\n",
        "#             all_labels = train_df['label'].tolist()\n",
        "\n",
        "#             # Apply SMOTE\n",
        "#             X_resampled, y_resampled, vectorizer = smote_text_augmentation(\n",
        "#                 all_texts, all_labels, target_count\n",
        "#             )\n",
        "\n",
        "#             print(\"SMOTE augmentation completed successfully!\")\n",
        "\n",
        "#             # For SMOTE results, we'll use the simple augmentation approach\n",
        "#             # since reconstructing text from TF-IDF is complex\n",
        "\n",
        "#         except Exception as e:\n",
        "#             print(f\"SMOTE failed: {e}\")\n",
        "#             print(\"Falling back to simple augmentation...\")\n",
        "\n",
        "#     # Simple augmentation approach (primary method)\n",
        "#     for label, needed in classes_to_augment:\n",
        "#         print(f\"\\nAugmenting class {label_map[label]} ({label}) with {needed} examples...\")\n",
        "\n",
        "#         subset = train_df[train_df['label'] == label]\n",
        "\n",
        "#         if len(subset) == 0:\n",
        "#             continue\n",
        "\n",
        "#         samples_added = 0\n",
        "#         iterations = 0\n",
        "#         max_iterations = needed * 3  # Prevent infinite loops\n",
        "\n",
        "#         while samples_added < needed and iterations < max_iterations:\n",
        "#             # Cycle through available samples\n",
        "#             row = subset.iloc[iterations % len(subset)]\n",
        "#             text = row['clean_text']\n",
        "\n",
        "#             if not text or text.strip() == \"\":\n",
        "#                 iterations += 1\n",
        "#                 continue\n",
        "\n",
        "#             # Apply augmentation\n",
        "#             aug_text = augment_text_simple(text)\n",
        "\n",
        "#             # Only add if it's different from original\n",
        "#             if aug_text != text:\n",
        "#                 augmented_rows.append({\n",
        "#                     'tweet': aug_text,\n",
        "#                     'clean_text': aug_text,\n",
        "#                     'label': row['label'],\n",
        "#                     'label_text': label_map[label]\n",
        "#                 })\n",
        "#                 samples_added += 1\n",
        "\n",
        "#             iterations += 1\n",
        "\n",
        "#             # Progress indicator\n",
        "#             if samples_added % 20 == 0 and samples_added > 0:\n",
        "#                 print(f\"  Progress: {samples_added}/{needed} samples augmented for {label_map[label]}\")\n",
        "\n",
        "# # Create final balanced dataset\n",
        "# if augmented_rows:\n",
        "#     aug_df = pd.DataFrame(augmented_rows)\n",
        "#     balanced_train_df = pd.concat([train_df, aug_df], ignore_index=True).sample(frac=1, random_state=42).reset_index(drop=True)\n",
        "\n",
        "#     # Verify the structure\n",
        "#     print(\"\\nDataFrame structure verification:\")\n",
        "#     print(\"Original DataFrame columns:\", train_df.columns.tolist())\n",
        "#     print(\"Augmented DataFrame columns:\", aug_df.columns.tolist())\n",
        "#     print(\"Combined DataFrame columns:\", balanced_train_df.columns.tolist())\n",
        "\n",
        "#     # Check final class distribution\n",
        "#     print(\"\\nFinal class distribution after augmentation:\")\n",
        "#     final_counts = balanced_train_df['label'].value_counts().sort_index()\n",
        "#     for label, count in final_counts.items():\n",
        "#         print(f\"  {label_map[label]} ({label}): {count}\")\n",
        "\n",
        "#     # Update train_df\n",
        "#     train_df = balanced_train_df\n",
        "\n",
        "#     print(f\"\\nTotal samples: {len(train_df)}\")\n",
        "#     print(f\"Augmented samples added: {len(aug_df)}\")\n",
        "\n",
        "# else:\n",
        "#     print(\"No augmentation needed - classes are already balanced!\")\n",
        "\n",
        "# print(\"\\nAugmentation completed!\")\n",
        "\n",
        "# # Optional: Save the balanced dataset\n",
        "# # train_df.to_csv('balanced_train_data.csv', index=False)\n",
        "# # print(\"Balanced dataset saved to 'balanced_train_data.csv'\")"
      ],
      "metadata": {
        "colab": {
          "base_uri": "https://localhost:8080/"
        },
        "id": "jQGhOto34665",
        "outputId": "61b54c17-44f5-42c7-9e37-3bdb86b91bb1"
      },
      "execution_count": null,
      "outputs": [
        {
          "output_type": "stream",
          "name": "stdout",
          "text": [
            "Current class distribution:\n",
            "  positive (0): 1758\n",
            "  neutral (1): 2161\n",
            "  negative (2): 1664\n",
            "\n",
            "Majority class: neutral with 2161 samples\n",
            "Need to augment positive by 403 samples\n",
            "Need to augment negative by 497 samples\n",
            "\n",
            "Will augment 2 classes\n",
            "\n",
            "Processing class positive (0)...\n",
            "\n",
            "Processing class negative (2)...\n",
            "Applying SMOTE-based text augmentation...\n",
            "SMOTE augmentation completed successfully!\n",
            "\n",
            "Augmenting class positive (0) with 403 examples...\n",
            "  Progress: 20/403 samples augmented for positive\n",
            "  Progress: 40/403 samples augmented for positive\n",
            "  Progress: 60/403 samples augmented for positive\n",
            "  Progress: 60/403 samples augmented for positive\n",
            "  Progress: 60/403 samples augmented for positive\n",
            "  Progress: 60/403 samples augmented for positive\n",
            "  Progress: 60/403 samples augmented for positive\n",
            "  Progress: 80/403 samples augmented for positive\n",
            "  Progress: 100/403 samples augmented for positive\n",
            "  Progress: 120/403 samples augmented for positive\n",
            "  Progress: 140/403 samples augmented for positive\n",
            "  Progress: 160/403 samples augmented for positive\n",
            "  Progress: 160/403 samples augmented for positive\n",
            "  Progress: 160/403 samples augmented for positive\n",
            "  Progress: 180/403 samples augmented for positive\n",
            "  Progress: 180/403 samples augmented for positive\n",
            "  Progress: 200/403 samples augmented for positive\n",
            "  Progress: 200/403 samples augmented for positive\n",
            "  Progress: 220/403 samples augmented for positive\n",
            "  Progress: 240/403 samples augmented for positive\n",
            "  Progress: 260/403 samples augmented for positive\n",
            "  Progress: 280/403 samples augmented for positive\n",
            "  Progress: 300/403 samples augmented for positive\n",
            "  Progress: 320/403 samples augmented for positive\n",
            "  Progress: 340/403 samples augmented for positive\n",
            "  Progress: 360/403 samples augmented for positive\n",
            "  Progress: 380/403 samples augmented for positive\n",
            "  Progress: 400/403 samples augmented for positive\n",
            "\n",
            "Augmenting class negative (2) with 497 examples...\n",
            "  Progress: 20/497 samples augmented for negative\n",
            "  Progress: 20/497 samples augmented for negative\n",
            "  Progress: 40/497 samples augmented for negative\n",
            "  Progress: 40/497 samples augmented for negative\n",
            "  Progress: 40/497 samples augmented for negative\n",
            "  Progress: 40/497 samples augmented for negative\n",
            "  Progress: 40/497 samples augmented for negative\n",
            "  Progress: 40/497 samples augmented for negative\n",
            "  Progress: 40/497 samples augmented for negative\n",
            "  Progress: 40/497 samples augmented for negative\n",
            "  Progress: 60/497 samples augmented for negative\n",
            "  Progress: 80/497 samples augmented for negative\n",
            "  Progress: 100/497 samples augmented for negative\n",
            "  Progress: 120/497 samples augmented for negative\n",
            "  Progress: 140/497 samples augmented for negative\n",
            "  Progress: 160/497 samples augmented for negative\n",
            "  Progress: 180/497 samples augmented for negative\n",
            "  Progress: 180/497 samples augmented for negative\n",
            "  Progress: 200/497 samples augmented for negative\n",
            "  Progress: 220/497 samples augmented for negative\n",
            "  Progress: 240/497 samples augmented for negative\n",
            "  Progress: 260/497 samples augmented for negative\n",
            "  Progress: 280/497 samples augmented for negative\n",
            "  Progress: 300/497 samples augmented for negative\n",
            "  Progress: 320/497 samples augmented for negative\n",
            "  Progress: 340/497 samples augmented for negative\n",
            "  Progress: 340/497 samples augmented for negative\n",
            "  Progress: 340/497 samples augmented for negative\n",
            "  Progress: 360/497 samples augmented for negative\n",
            "  Progress: 380/497 samples augmented for negative\n",
            "  Progress: 380/497 samples augmented for negative\n",
            "  Progress: 400/497 samples augmented for negative\n",
            "  Progress: 400/497 samples augmented for negative\n",
            "  Progress: 420/497 samples augmented for negative\n",
            "  Progress: 440/497 samples augmented for negative\n",
            "  Progress: 460/497 samples augmented for negative\n",
            "  Progress: 480/497 samples augmented for negative\n",
            "\n",
            "DataFrame structure verification:\n",
            "Original DataFrame columns: ['tweet', 'label', 'clean_text', 'label_text']\n",
            "Augmented DataFrame columns: ['tweet', 'clean_text', 'label', 'label_text']\n",
            "Combined DataFrame columns: ['tweet', 'label', 'clean_text', 'label_text']\n",
            "\n",
            "Final class distribution after augmentation:\n",
            "  positive (0): 2161\n",
            "  neutral (1): 2161\n",
            "  negative (2): 2161\n",
            "\n",
            "Total samples: 6483\n",
            "Augmented samples added: 900\n",
            "\n",
            "Augmentation completed!\n"
          ]
        }
      ]
    },
    {
      "cell_type": "code",
      "source": [
        "train_df = pd.read_csv(\"final_tr.csv\")"
      ],
      "metadata": {
        "id": "CIhnsIeMyLC8"
      },
      "execution_count": null,
      "outputs": []
    },
    {
      "cell_type": "code",
      "source": [
        "train_df['label'].value_counts()"
      ],
      "metadata": {
        "colab": {
          "base_uri": "https://localhost:8080/",
          "height": 209
        },
        "id": "ZhmaBmNWyo-7",
        "outputId": "bf88d066-6e0b-432d-c30a-fbe4313b10ec"
      },
      "execution_count": null,
      "outputs": [
        {
          "output_type": "execute_result",
          "data": {
            "text/plain": [
              "label\n",
              "1    2161\n",
              "0    1758\n",
              "2    1664\n",
              "Name: count, dtype: int64"
            ],
            "text/html": [
              "<div>\n",
              "<style scoped>\n",
              "    .dataframe tbody tr th:only-of-type {\n",
              "        vertical-align: middle;\n",
              "    }\n",
              "\n",
              "    .dataframe tbody tr th {\n",
              "        vertical-align: top;\n",
              "    }\n",
              "\n",
              "    .dataframe thead th {\n",
              "        text-align: right;\n",
              "    }\n",
              "</style>\n",
              "<table border=\"1\" class=\"dataframe\">\n",
              "  <thead>\n",
              "    <tr style=\"text-align: right;\">\n",
              "      <th></th>\n",
              "      <th>count</th>\n",
              "    </tr>\n",
              "    <tr>\n",
              "      <th>label</th>\n",
              "      <th></th>\n",
              "    </tr>\n",
              "  </thead>\n",
              "  <tbody>\n",
              "    <tr>\n",
              "      <th>1</th>\n",
              "      <td>2161</td>\n",
              "    </tr>\n",
              "    <tr>\n",
              "      <th>0</th>\n",
              "      <td>1758</td>\n",
              "    </tr>\n",
              "    <tr>\n",
              "      <th>2</th>\n",
              "      <td>1664</td>\n",
              "    </tr>\n",
              "  </tbody>\n",
              "</table>\n",
              "</div><br><label><b>dtype:</b> int64</label>"
            ]
          },
          "metadata": {},
          "execution_count": 48
        }
      ]
    },
    {
      "cell_type": "code",
      "source": [
        "import matplotlib.pyplot as plt\n",
        "import seaborn as sns\n",
        "\n",
        "# Visualize the imbalance\n",
        "plt.figure(figsize=(10, 6))\n",
        "plt.subplot(1, 2, 1)\n",
        "train_df['label_text'].value_counts().plot(kind='bar')\n",
        "plt.title('Label Distribution (Counts)')\n",
        "plt.xticks(rotation=45)\n",
        "\n",
        "plt.subplot(1, 2, 2)\n",
        "train_df['label_text'].value_counts(normalize=True).plot(kind='bar')\n",
        "plt.title('Label Distribution (Proportions)')\n",
        "plt.xticks(rotation=45)\n",
        "plt.tight_layout()\n",
        "plt.show()\n",
        "\n",
        "# Check validation and test distributions too\n",
        "if validation_df is not None:\n",
        "    print(\"\\nValidation set distribution:\")\n",
        "    print(validation_df['label'].value_counts().sort_index())\n",
        "\n",
        "if test_df is not None:\n",
        "    print(\"\\nTest set distribution:\")\n",
        "    print(test_df['label'].value_counts().sort_index())"
      ],
      "metadata": {
        "colab": {
          "base_uri": "https://localhost:8080/",
          "height": 862
        },
        "id": "MPr6dVTPXICs",
        "outputId": "543d37b8-5763-41d5-8e1f-d22c65862d54"
      },
      "execution_count": null,
      "outputs": [
        {
          "output_type": "display_data",
          "data": {
            "text/plain": [
              "<Figure size 1000x600 with 2 Axes>"
            ],
            "image/png": "[encoded data removed]"
          },
          "metadata": {}
        },
        {
          "output_type": "stream",
          "name": "stdout",
          "text": [
            "\n",
            "Validation set distribution:\n",
            "label\n",
            "0    167\n",
            "1    189\n",
            "2    138\n",
            "Name: count, dtype: int64\n",
            "\n",
            "Test set distribution:\n",
            "label\n",
            "0    1144\n",
            "1     967\n",
            "2     850\n",
            "Name: count, dtype: int64\n"
          ]
        }
      ]
    },
    {
      "cell_type": "code",
      "source": [
        "from sklearn.utils.class_weight import compute_class_weight\n",
        "import numpy as np\n",
        "\n",
        "# Calculate class weights for imbalanced learning\n",
        "class_weights = compute_class_weight(\n",
        "    'balanced',\n",
        "    classes=np.unique(train_df['label']),\n",
        "    y=train_df['label']\n",
        ")\n",
        "\n",
        "class_weight_dict = dict(zip(np.unique(train_df['label']), class_weights))\n",
        "print(\"Class weights for balanced training:\")\n",
        "print(class_weight_dict)\n"
      ],
      "metadata": {
        "colab": {
          "base_uri": "https://localhost:8080/"
        },
        "id": "PXjh8xw2XxW8",
        "outputId": "035a45d0-67fc-4bf0-92bc-98ff3570437a"
      },
      "execution_count": null,
      "outputs": [
        {
          "output_type": "stream",
          "name": "stdout",
          "text": [
            "Class weights for balanced training:\n",
            "{np.int64(0): np.float64(1.058589306029579), np.int64(1): np.float64(0.8611753817677001), np.int64(2): np.float64(1.1183894230769231)}\n"
          ]
        }
      ]
    },
    {
      "cell_type": "code",
      "source": [
        "# Text length analysis\n",
        "train_df['text_length'] = train_df['clean_text'].str.len()\n",
        "train_df['word_count'] = train_df['clean_text'].str.split().str.len()\n",
        "\n",
        "print(\"Text statistics:\")\n",
        "print(train_df[['text_length', 'word_count']].describe())\n",
        "\n",
        "# Remove very short texts (less than 3 characters)\n",
        "print(f\"Removing {len(train_df[train_df['text_length'] < 3])} very short texts\")\n",
        "train_df = train_df[train_df['text_length'] >= 3].reset_index(drop=True)\n",
        "\n",
        "# Check for empty texts after cleaning\n",
        "empty_texts = train_df[train_df['clean_text'].str.strip() == '']\n",
        "print(f\"Found {len(empty_texts)} empty texts after cleaning\")\n",
        "\n",
        "if len(empty_texts) > 0:\n",
        "    print(\"Removing empty texts...\")\n",
        "    train_df = train_df[train_df['clean_text'].str.strip() != ''].reset_index(drop=True)\n",
        "\n",
        "print(f\"Final training set size: {len(train_df)}\")\n",
        "print(\"Final label distribution:\")\n",
        "print(train_df['label'].value_counts().sort_index())"
      ],
      "metadata": {
        "colab": {
          "base_uri": "https://localhost:8080/"
        },
        "id": "cMdt7OWcfj3R",
        "outputId": "fb00696a-625a-48c3-c021-8a0c4aba1c55"
      },
      "execution_count": null,
      "outputs": [
        {
          "output_type": "stream",
          "name": "stdout",
          "text": [
            "Text statistics:\n",
            "       text_length   word_count\n",
            "count  5583.000000  5583.000000\n",
            "mean     74.162995    13.005732\n",
            "std      42.195884     7.280304\n",
            "min       4.000000     1.000000\n",
            "25%      42.000000     8.000000\n",
            "50%      70.000000    12.000000\n",
            "75%     100.000000    17.000000\n",
            "max     771.000000   119.000000\n",
            "Removing 0 very short texts\n",
            "Found 0 empty texts after cleaning\n",
            "Final training set size: 5583\n",
            "Final label distribution:\n",
            "label\n",
            "0    1758\n",
            "1    2161\n",
            "2    1664\n",
            "Name: count, dtype: int64\n"
          ]
        }
      ]
    },
    {
      "cell_type": "code",
      "source": [
        "try:\n",
        "    X_train = train_df['clean_text'].values\n",
        "    y_train = train_df['label'].values\n",
        "    print(f\"✓ Training data loaded: {len(X_train)} samples\")\n",
        "\n",
        "    # Handle validation data\n",
        "    if 'validation_df' in globals() and validation_df is not None:\n",
        "        X_val = validation_df['clean_text'].values\n",
        "        y_val = validation_df['label'].values\n",
        "        print(f\"✓ Validation data loaded: {len(X_val)} samples\")\n",
        "    else:\n",
        "        # Split training data if no validation set\n",
        "        print(\"⚠ No validation set found. Splitting training data...\")\n",
        "        X_train, X_val, y_train, y_val = train_test_split(\n",
        "            X_train, y_train, test_size=0.2, random_state=42, stratify=y_train\n",
        "        )\n",
        "        print(f\"✓ Data split - Training: {len(X_train)}, Validation: {len(X_val)}\")\n",
        "\n",
        "    # Handle test data\n",
        "    if 'test_df' in globals() and test_df is not None:\n",
        "        X_test = test_df['clean_text'].values\n",
        "        y_test = test_df['label'].values\n",
        "        print(f\"✓ Test data loaded: {len(X_test)} samples\")\n",
        "    else:\n",
        "        print(\"⚠ No test set provided\")\n",
        "        X_test, y_test = None, None\n",
        "\n",
        "except NameError:\n",
        "    print(\"❌ Error: Data not found. Please ensure you have:\")\n",
        "    print(\"- train_df with 'clean_text' and 'label' columns\")\n",
        "    print(\"- validation_df (optional)\")\n",
        "    print(\"- test_df (optional)\")\n",
        "    raise\n",
        "\n",
        "# Analyze label distribution\n",
        "unique_labels = np.unique(y_train)\n",
        "num_labels = len(unique_labels)\n",
        "print(f\"\\n📊 Dataset Analysis:\")\n",
        "print(f\"Number of unique labels: {num_labels}\")\n",
        "print(f\"Labels: {unique_labels}\")\n",
        "\n",
        "# Create label mapping for interpretability\n",
        "if num_labels == 2:\n",
        "    label_names = {0: 'Positive', 1: 'Negative'}\n",
        "elif num_labels == 3:\n",
        "    label_names = {0: 'Positive', 1: 'Neutral', 2: 'Negative'}\n",
        "else:\n",
        "    label_names = {i: f'Label_{i}' for i in range(num_labels)}\n",
        "\n",
        "print(\"Label distribution in training set:\")\n",
        "train_label_counts = pd.Series(y_train).value_counts().sort_index()\n",
        "for label, count in train_label_counts.items():\n",
        "    percentage = (count / len(y_train)) * 100\n",
        "    print(f\"  {label_names[label]} ({label}): {count} ({percentage:.1f}%)\")\n"
      ],
      "metadata": {
        "colab": {
          "base_uri": "https://localhost:8080/"
        },
        "id": "q0TBNvntf0bF",
        "outputId": "eb67f2bf-d89d-40cf-8c64-b7d512264e38"
      },
      "execution_count": null,
      "outputs": [
        {
          "output_type": "stream",
          "name": "stdout",
          "text": [
            "✓ Training data loaded: 5583 samples\n",
            "✓ Validation data loaded: 494 samples\n",
            "✓ Test data loaded: 2961 samples\n",
            "\n",
            "📊 Dataset Analysis:\n",
            "Number of unique labels: 3\n",
            "Labels: [0 1 2]\n",
            "Label distribution in training set:\n",
            "  Positive (0): 1758 (31.5%)\n",
            "  Neutral (1): 2161 (38.7%)\n",
            "  Negative (2): 1664 (29.8%)\n"
          ]
        }
      ]
    },
    {
      "cell_type": "code",
      "source": [
        "# # Simple direct save of the final train_df\n",
        "# from datetime import datetime\n",
        "\n",
        "# timestamp = datetime.now().strftime(\"%Y%m%d_%H%M%S\")\n",
        "\n",
        "# # Save the final augmented train_df\n",
        "# train_df.to_csv(f'final_train_df_{timestamp}.csv', index=False, encoding='utf-8')\n",
        "\n",
        "# print(f\"Final train_df saved as: final_train_df_{timestamp}.csv\")\n",
        "# print(f\"Shape: {train_df.shape}\")\n",
        "# print(f\"Columns: {train_df.columns.tolist()}\")\n",
        "\n",
        "# # Quick verification\n",
        "# print(\"\\nClass distribution:\")\n",
        "# print(train_df['label'].value_counts().sort_index())\n",
        "\n",
        "# print(f\"\\nFile ready for download: final_train_df_{timestamp}.csv\")\n",
        "\n",
        "# # To load it back later, simply use:\n",
        "# print(\"\\nTo load later:\")\n",
        "# print(f\"train_df = pd.read_csv('final_train_df_{timestamp}.csv')\")"
      ],
      "metadata": {
        "colab": {
          "base_uri": "https://localhost:8080/"
        },
        "id": "05NZrO9TPbkL",
        "outputId": "34afc19b-bf52-4ef9-c456-966520ba1746"
      },
      "execution_count": null,
      "outputs": [
        {
          "output_type": "stream",
          "name": "stdout",
          "text": [
            "Final train_df saved as: final_train_df_20250608_114115.csv\n",
            "Shape: (6483, 6)\n",
            "Columns: ['tweet', 'label', 'clean_text', 'label_text', 'text_length', 'word_count']\n",
            "\n",
            "Class distribution:\n",
            "label\n",
            "0    2161\n",
            "1    2161\n",
            "2    2161\n",
            "Name: count, dtype: int64\n",
            "\n",
            "File ready for download: final_train_df_20250608_114115.csv\n",
            "\n",
            "To load later:\n",
            "train_df = pd.read_csv('final_train_df_20250608_114115.csv')\n"
          ]
        }
      ]
    },
    {
      "cell_type": "code",
      "source": [
        "import pandas as pd\n",
        "import numpy as np\n",
        "import torch\n",
        "from torch.utils.data import Dataset, DataLoader, RandomSampler, SequentialSampler, WeightedRandomSampler\n",
        "from transformers import AutoTokenizer, AutoModelForSequenceClassification\n",
        "from torch.optim import AdamW\n",
        "from transformers import get_linear_schedule_with_warmup\n",
        "from sklearn.model_selection import train_test_split\n",
        "from sklearn.metrics import accuracy_score, f1_score, classification_report, confusion_matrix\n",
        "from sklearn.utils.class_weight import compute_class_weight\n",
        "import matplotlib.pyplot as plt\n",
        "import seaborn as sns\n",
        "from tqdm import tqdm\n",
        "import random\n",
        "import os\n",
        "import time\n",
        "import torch.nn as nn\n",
        "from sklearn.utils.class_weight import compute_class_weight\n",
        "from torch.utils.data import WeightedRandomSampler\n"
      ],
      "metadata": {
        "id": "XGM5_46NgGcL"
      },
      "execution_count": null,
      "outputs": []
    },
    {
      "cell_type": "code",
      "source": [
        "# Set seed for reproducibility\n",
        "seed_val = 42\n",
        "random.seed(seed_val)\n",
        "np.random.seed(seed_val)\n",
        "torch.manual_seed(seed_val)\n",
        "torch.cuda.manual_seed_all(seed_val)\n",
        "\n",
        "# Check if GPU is available\n",
        "device = torch.device(\"cuda\" if torch.cuda.is_available() else \"cpu\")\n",
        "print(f\"Using device: {device}\")"
      ],
      "metadata": {
        "colab": {
          "base_uri": "https://localhost:8080/"
        },
        "id": "P6LxIw7NhhUB",
        "outputId": "72cb73bf-ef8d-4fc4-f4fb-31f9fb5ac1f5"
      },
      "execution_count": null,
      "outputs": [
        {
          "output_type": "stream",
          "name": "stdout",
          "text": [
            "Using device: cuda\n"
          ]
        }
      ]
    },
    {
      "cell_type": "code",
      "source": [
        "from sklearn.utils.class_weight import compute_class_weight\n",
        "\n",
        "# Compute class weights\n",
        "class_weights = compute_class_weight(\n",
        "    class_weight='balanced',\n",
        "    classes=np.unique(y_train),\n",
        "    y=y_train\n",
        ")\n",
        "class_weight_dict = dict(zip(np.unique(y_train), class_weights))\n",
        "class_weight_tensor = torch.tensor([class_weight_dict[i] for i in range(len(class_weight_dict))],\n",
        "                                  dtype=torch.float).to(device)\n",
        "\n",
        "print(\"Class weights computed:\")\n",
        "for label, weight in class_weight_dict.items():\n",
        "    print(f\"  Class {label}: {weight:.3f}\")"
      ],
      "metadata": {
        "colab": {
          "base_uri": "https://localhost:8080/"
        },
        "id": "4DvXJ4qRdWfF",
        "outputId": "aedbcfbb-3c56-4ed5-c0c6-a2641896523e"
      },
      "execution_count": null,
      "outputs": [
        {
          "output_type": "stream",
          "name": "stdout",
          "text": [
            "Class weights computed:\n",
            "  Class 0: 1.059\n",
            "  Class 1: 0.861\n",
            "  Class 2: 1.118\n"
          ]
        }
      ]
    },
    {
      "cell_type": "code",
      "source": [
        "# Arabic BERT model options (reordered by effectiveness for dialects):\n",
        "model_options = {\n",
        "    1: \"CAMeL-Lab/bert-base-arabic-camelbert-mix\",  # BEST for dialects - MSA + dialectal mix\n",
        "    2: \"UBC-NLP/MARBERTv2\",                         # GOOD for dialectal Arabic\n",
        "    3: \"aubmindlab/bert-base-arabertv2\"             # STRONG for Arabic including dialects\n",
        "}\n",
        "\n",
        "print(\"Available Arabic BERT models (ordered by dialect performance):\")\n",
        "for key, model in model_options.items():\n",
        "    print(f\"  {key}. {model}\")\n",
        "\n",
        "# Use CAMeLBERT-Mix for best dialect performance\n",
        "model_name = model_options[1]\n",
        "print(f\"\\n🤖 Loading model: {model_name}\")\n",
        "\n",
        "try:\n",
        "    tokenizer = AutoTokenizer.from_pretrained(model_name)\n",
        "    model = AutoModelForSequenceClassification.from_pretrained(\n",
        "        model_name,\n",
        "        num_labels=num_labels,\n",
        "        output_attentions=False,\n",
        "        output_hidden_states=False,\n",
        "        hidden_dropout_prob=0.3,  # Increased dropout for better generalization\n",
        "        attention_probs_dropout_prob=0.3\n",
        "    )\n",
        "    print(\"✓ Model and tokenizer loaded successfully\")\n",
        "except Exception as e:\n",
        "    print(f\"❌ Error loading model: {e}\")\n",
        "    raise"
      ],
      "metadata": {
        "colab": {
          "base_uri": "https://localhost:8080/"
        },
        "id": "4_IQEOmNhqWA",
        "outputId": "0d8d50ee-f5f8-45c6-c90f-8d21e190b324"
      },
      "execution_count": null,
      "outputs": [
        {
          "output_type": "stream",
          "name": "stdout",
          "text": [
            "Available Arabic BERT models (ordered by dialect performance):\n",
            "  1. CAMeL-Lab/bert-base-arabic-camelbert-mix\n",
            "  2. UBC-NLP/MARBERTv2\n",
            "  3. aubmindlab/bert-base-arabertv2\n",
            "\n",
            "🤖 Loading model: CAMeL-Lab/bert-base-arabic-camelbert-mix\n"
          ]
        },
        {
          "output_type": "stream",
          "name": "stderr",
          "text": [
            "Some weights of BertForSequenceClassification were not initialized from the model checkpoint at CAMeL-Lab/bert-base-arabic-camelbert-mix and are newly initialized: ['classifier.bias', 'classifier.weight']\n",
            "You should probably TRAIN this model on a down-stream task to be able to use it for predictions and inference.\n"
          ]
        },
        {
          "output_type": "stream",
          "name": "stdout",
          "text": [
            "✓ Model and tokenizer loaded successfully\n"
          ]
        }
      ]
    },
    {
      "cell_type": "code",
      "source": [
        "class DarijaDataset(Dataset):\n",
        "    \"\"\"Enhanced Dataset class for Darija sentiment analysis\"\"\"\n",
        "\n",
        "    def __init__(self, texts, labels, tokenizer, max_len=256):  # Increased max_len\n",
        "        self.texts = texts\n",
        "        self.labels = labels\n",
        "        self.tokenizer = tokenizer\n",
        "        self.max_len = max_len\n",
        "\n",
        "    def __len__(self):\n",
        "        return len(self.texts)\n",
        "\n",
        "    def __getitem__(self, idx):\n",
        "        text = str(self.texts[idx]).strip()\n",
        "        label = self.labels[idx]\n",
        "\n",
        "        # Enhanced tokenization for Arabic\n",
        "        encoding = self.tokenizer(\n",
        "            text,\n",
        "            add_special_tokens=True,\n",
        "            max_length=self.max_len,\n",
        "            padding='max_length',\n",
        "            truncation=True,\n",
        "            return_attention_mask=True,\n",
        "            return_tensors='pt',\n",
        "            return_token_type_ids=False  # Not needed for classification\n",
        "        )\n",
        "\n",
        "        return {\n",
        "            'input_ids': encoding['input_ids'].flatten(),\n",
        "            'attention_mask': encoding['attention_mask'].flatten(),\n",
        "            'labels': torch.tensor(label, dtype=torch.long)\n",
        "        }\n",
        "\n",
        "# Create datasets with improved max_length\n",
        "print(\"Creating datasets...\")\n",
        "train_dataset = DarijaDataset(X_train, y_train, tokenizer, max_len=256)\n",
        "val_dataset = DarijaDataset(X_val, y_val, tokenizer, max_len=256)\n",
        "\n",
        "if X_test is not None:\n",
        "    test_dataset = DarijaDataset(X_test, y_test, tokenizer, max_len=256)\n",
        "    print(f\"✓ Test dataset created: {len(test_dataset)} samples\")\n",
        "\n",
        "print(f\"✓ Training dataset created: {len(train_dataset)} samples\")\n",
        "print(f\"✓ Validation dataset created: {len(val_dataset)} samples\")\n"
      ],
      "metadata": {
        "colab": {
          "base_uri": "https://localhost:8080/"
        },
        "id": "xEGNYWzBkWJU",
        "outputId": "eb15a25d-f9cc-431f-9c10-495eeda3fb17"
      },
      "execution_count": null,
      "outputs": [
        {
          "output_type": "stream",
          "name": "stdout",
          "text": [
            "Creating datasets...\n",
            "✓ Test dataset created: 2961 samples\n",
            "✓ Training dataset created: 5583 samples\n",
            "✓ Validation dataset created: 494 samples\n"
          ]
        }
      ]
    },
    {
      "cell_type": "code",
      "source": [
        "batch_size = 8  # Smaller batch size for better gradient estimates\n",
        "gradient_accumulation_steps = 2  # Effective batch size = 8 * 2 = 16\n",
        "print(f\"Actual batch size: {batch_size}\")\n",
        "print(f\"Effective batch size: {batch_size * gradient_accumulation_steps}\")\n",
        "\n",
        "# Create data loaders\n",
        "train_dataloader = DataLoader(\n",
        "    train_dataset,\n",
        "    sampler=RandomSampler(train_dataset),\n",
        "    batch_size=batch_size,\n",
        "    num_workers=2,  # Speed up data loading\n",
        "    pin_memory=True  # Faster GPU transfer\n",
        ")\n",
        "\n",
        "val_dataloader = DataLoader(\n",
        "    val_dataset,\n",
        "    sampler=SequentialSampler(val_dataset),\n",
        "    batch_size=batch_size,\n",
        "    num_workers=2,\n",
        "    pin_memory=True\n",
        ")\n",
        "\n",
        "if X_test is not None:\n",
        "    test_dataloader = DataLoader(\n",
        "        test_dataset,\n",
        "        sampler=SequentialSampler(test_dataset),\n",
        "        batch_size=batch_size,\n",
        "        num_workers=2,\n",
        "        pin_memory=True\n",
        "    )\n",
        "\n",
        "print(f\"✓ Training batches: {len(train_dataloader)}\")\n",
        "print(f\"✓ Validation batches: {len(val_dataloader)}\")"
      ],
      "metadata": {
        "colab": {
          "base_uri": "https://localhost:8080/"
        },
        "id": "FznCmiiqlTnu",
        "outputId": "0d3e3652-ec85-422a-9afe-6f9f05ee584f"
      },
      "execution_count": null,
      "outputs": [
        {
          "output_type": "stream",
          "name": "stdout",
          "text": [
            "Actual batch size: 8\n",
            "Effective batch size: 16\n",
            "✓ Training batches: 698\n",
            "✓ Validation batches: 62\n"
          ]
        }
      ]
    },
    {
      "cell_type": "code",
      "source": [
        "# Training parameters\n",
        "epochs = 10  # Increased for better convergence\n",
        "learning_rate = 2e-5  # Lower learning rate for stability\n",
        "weight_decay = 0.01  # L2 regularization\n",
        "warmup_ratio = 0.1  # 10% warmup steps\n",
        "eps = 1e-8\n",
        "\n",
        "print(f\"Training epochs: {epochs}\")\n",
        "print(f\"Learning rate: {learning_rate}\")\n",
        "print(f\"Weight decay: {weight_decay}\")\n",
        "\n",
        "# Enhanced optimizer\n",
        "optimizer = AdamW(\n",
        "    model.parameters(),\n",
        "    lr=learning_rate,\n",
        "    eps=eps,\n",
        "    weight_decay=weight_decay,\n",
        "    betas=(0.9, 0.999)\n",
        ")\n",
        "\n",
        "total_steps = len(train_dataloader) * epochs // gradient_accumulation_steps\n",
        "warmup_steps = int(total_steps * warmup_ratio)\n",
        "\n",
        "scheduler = get_linear_schedule_with_warmup(\n",
        "    optimizer,\n",
        "    num_warmup_steps=warmup_steps,\n",
        "    num_training_steps=total_steps\n",
        ")\n",
        "\n",
        "print(f\"Total training steps: {total_steps}\")\n",
        "print(f\"Warmup steps: {warmup_steps}\")\n"
      ],
      "metadata": {
        "colab": {
          "base_uri": "https://localhost:8080/"
        },
        "id": "Gl9P2H_KlZB4",
        "outputId": "760390c2-f737-4b5a-bcfe-1fe1b11d1ac6"
      },
      "execution_count": null,
      "outputs": [
        {
          "output_type": "stream",
          "name": "stdout",
          "text": [
            "Training epochs: 10\n",
            "Learning rate: 2e-05\n",
            "Weight decay: 0.01\n",
            "Total training steps: 3490\n",
            "Warmup steps: 349\n"
          ]
        }
      ]
    },
    {
      "cell_type": "code",
      "source": [
        "# Use weighted CrossEntropyLoss\n",
        "criterion = torch.nn.CrossEntropyLoss(weight=class_weight_tensor)\n",
        "\n",
        "def train_epoch(model, dataloader, optimizer, scheduler, device, criterion, gradient_accumulation_steps):\n",
        "    \"\"\"Enhanced training function with gradient accumulation and class weights\"\"\"\n",
        "    model.train()\n",
        "    total_loss = 0\n",
        "    all_preds = []\n",
        "    all_labels = []\n",
        "\n",
        "    progress_bar = tqdm(dataloader, desc=\"Training\", leave=False)\n",
        "\n",
        "    for step, batch in enumerate(progress_bar):\n",
        "        # Move to device\n",
        "        input_ids = batch['input_ids'].to(device)\n",
        "        attention_mask = batch['attention_mask'].to(device)\n",
        "        labels = batch['labels'].to(device)\n",
        "\n",
        "        # Forward pass\n",
        "        outputs = model(\n",
        "            input_ids=input_ids,\n",
        "            attention_mask=attention_mask\n",
        "        )\n",
        "\n",
        "        logits = outputs.logits\n",
        "        loss = criterion(logits, labels)  # Use weighted loss\n",
        "\n",
        "        # Scale loss by gradient accumulation steps\n",
        "        loss = loss / gradient_accumulation_steps\n",
        "\n",
        "        # Backward pass\n",
        "        loss.backward()\n",
        "\n",
        "        # Gradient accumulation\n",
        "        if (step + 1) % gradient_accumulation_steps == 0:\n",
        "            torch.nn.utils.clip_grad_norm_(model.parameters(), 1.0)\n",
        "            optimizer.step()\n",
        "            scheduler.step()\n",
        "            optimizer.zero_grad()\n",
        "\n",
        "        # Track metrics\n",
        "        total_loss += loss.item() * gradient_accumulation_steps\n",
        "        preds = torch.argmax(logits, dim=1).cpu().numpy()\n",
        "        labels_cpu = labels.cpu().numpy()\n",
        "\n",
        "        all_preds.extend(preds)\n",
        "        all_labels.extend(labels_cpu)\n",
        "\n",
        "        progress_bar.set_postfix({\"loss\": f\"{loss.item() * gradient_accumulation_steps:.4f}\"})\n",
        "\n",
        "    # Calculate epoch metrics\n",
        "    epoch_loss = total_loss / len(dataloader)\n",
        "    epoch_accuracy = accuracy_score(all_labels, all_preds)\n",
        "    epoch_f1 = f1_score(all_labels, all_preds, average='weighted')\n",
        "\n",
        "    return epoch_loss, epoch_accuracy, epoch_f1\n",
        "\n",
        "def evaluate(model, dataloader, device, criterion):\n",
        "    \"\"\"Enhanced evaluation function\"\"\"\n",
        "    model.eval()\n",
        "    total_loss = 0\n",
        "    all_preds = []\n",
        "    all_labels = []\n",
        "    all_probs = []\n",
        "\n",
        "    with torch.no_grad():\n",
        "        progress_bar = tqdm(dataloader, desc=\"Evaluating\", leave=False)\n",
        "        for batch in progress_bar:\n",
        "            input_ids = batch['input_ids'].to(device)\n",
        "            attention_mask = batch['attention_mask'].to(device)\n",
        "            labels = batch['labels'].to(device)\n",
        "\n",
        "            outputs = model(\n",
        "                input_ids=input_ids,\n",
        "                attention_mask=attention_mask\n",
        "            )\n",
        "\n",
        "            logits = outputs.logits\n",
        "            loss = criterion(logits, labels)\n",
        "\n",
        "            # Get probabilities for confidence analysis\n",
        "            probs = torch.softmax(logits, dim=1)\n",
        "\n",
        "            total_loss += loss.item()\n",
        "            preds = torch.argmax(logits, dim=1).cpu().numpy()\n",
        "            labels_cpu = labels.cpu().numpy()\n",
        "            probs_cpu = probs.cpu().numpy()\n",
        "\n",
        "            all_preds.extend(preds)\n",
        "            all_labels.extend(labels_cpu)\n",
        "            all_probs.extend(probs_cpu)\n",
        "\n",
        "            progress_bar.set_postfix({\"loss\": f\"{loss.item():.4f}\"})\n",
        "\n",
        "    epoch_loss = total_loss / len(dataloader)\n",
        "    epoch_accuracy = accuracy_score(all_labels, all_preds)\n",
        "    epoch_f1 = f1_score(all_labels, all_preds, average='weighted')\n",
        "\n",
        "    return epoch_loss, epoch_accuracy, epoch_f1, all_preds, all_labels, all_probs\n"
      ],
      "metadata": {
        "id": "9lO2iXMHldHL"
      },
      "execution_count": null,
      "outputs": []
    },
    {
      "cell_type": "code",
      "source": [
        "# Move model to device\n",
        "model.to(device)\n",
        "\n",
        "# Training tracking\n",
        "train_losses = []\n",
        "train_accuracies = []\n",
        "train_f1_scores = []\n",
        "val_losses = []\n",
        "val_accuracies = []\n",
        "val_f1_scores = []\n",
        "\n",
        "best_val_f1 = 0\n",
        "best_model_state = None\n",
        "patience = 3  # Early stopping patience\n",
        "patience_counter = 0\n",
        "\n",
        "start_time = time.time()\n",
        "\n",
        "print(\"🚀 Training started with enhanced configuration...\")\n",
        "\n",
        "for epoch in range(epochs):\n",
        "    print(f\"\\n📅 Epoch {epoch+1}/{epochs}\")\n",
        "\n",
        "    # Train\n",
        "    train_loss, train_accuracy, train_f1 = train_epoch(\n",
        "        model, train_dataloader, optimizer, scheduler, device, criterion, gradient_accumulation_steps\n",
        "    )\n",
        "\n",
        "    train_losses.append(train_loss)\n",
        "    train_accuracies.append(train_accuracy)\n",
        "    train_f1_scores.append(train_f1)\n",
        "\n",
        "    print(f\"📈 Train - Loss: {train_loss:.4f}, Accuracy: {train_accuracy:.4f}, F1: {train_f1:.4f}\")\n",
        "\n",
        "    # Evaluate\n",
        "    val_loss, val_accuracy, val_f1, val_preds, val_labels, val_probs = evaluate(\n",
        "        model, val_dataloader, device, criterion\n",
        "    )\n",
        "\n",
        "    val_losses.append(val_loss)\n",
        "    val_accuracies.append(val_accuracy)\n",
        "    val_f1_scores.append(val_f1)\n",
        "\n",
        "    print(f\"📊 Val   - Loss: {val_loss:.4f}, Accuracy: {val_accuracy:.4f}, F1: {val_f1:.4f}\")\n",
        "\n",
        "    # Early stopping and model saving\n",
        "    if val_f1 > best_val_f1:\n",
        "        best_val_f1 = val_f1\n",
        "        best_model_state = model.state_dict().copy()\n",
        "        patience_counter = 0\n",
        "        print(f\"💾 New best model saved! F1: {best_val_f1:.4f}\")\n",
        "    else:\n",
        "        patience_counter += 1\n",
        "        print(f\"⏳ No improvement. Patience: {patience_counter}/{patience}\")\n",
        "\n",
        "        if patience_counter >= patience:\n",
        "            print(\"🛑 Early stopping triggered!\")\n",
        "            break\n",
        "\n",
        "end_time = time.time()\n",
        "training_time = end_time - start_time\n",
        "\n",
        "print(f\"\\n✅ Training completed in {training_time:.1f} seconds ({training_time/60:.1f} minutes)\")\n",
        "print(f\"🏆 Best validation F1: {best_val_f1:.4f}\")\n",
        "\n",
        "# Load best model\n",
        "model.load_state_dict(best_model_state)\n"
      ],
      "metadata": {
        "colab": {
          "base_uri": "https://localhost:8080/"
        },
        "id": "R__lvMM8lkJq",
        "outputId": "c2ed2fd4-9c83-4ac2-fb64-fc8de9ee3cda"
      },
      "execution_count": null,
      "outputs": [
        {
          "output_type": "stream",
          "name": "stdout",
          "text": [
            "🚀 Training started with enhanced configuration...\n",
            "\n",
            "📅 Epoch 1/10\n"
          ]
        },
        {
          "output_type": "stream",
          "name": "stderr",
          "text": []
        },
        {
          "output_type": "stream",
          "name": "stdout",
          "text": [
            "📈 Train - Loss: 0.8929, Accuracy: 0.5766, F1: 0.5685\n"
          ]
        },
        {
          "output_type": "stream",
          "name": "stderr",
          "text": []
        },
        {
          "output_type": "stream",
          "name": "stdout",
          "text": [
            "📊 Val   - Loss: 0.6447, Accuracy: 0.7368, F1: 0.7367\n",
            "💾 New best model saved! F1: 0.7367\n",
            "\n",
            "📅 Epoch 2/10\n"
          ]
        },
        {
          "output_type": "stream",
          "name": "stderr",
          "text": []
        },
        {
          "output_type": "stream",
          "name": "stdout",
          "text": [
            "📈 Train - Loss: 0.6284, Accuracy: 0.7147, F1: 0.7122\n"
          ]
        },
        {
          "output_type": "stream",
          "name": "stderr",
          "text": []
        },
        {
          "output_type": "stream",
          "name": "stdout",
          "text": [
            "📊 Val   - Loss: 0.5975, Accuracy: 0.7348, F1: 0.7224\n",
            "⏳ No improvement. Patience: 1/3\n",
            "\n",
            "📅 Epoch 3/10\n"
          ]
        },
        {
          "output_type": "stream",
          "name": "stderr",
          "text": []
        },
        {
          "output_type": "stream",
          "name": "stdout",
          "text": [
            "📈 Train - Loss: 0.5525, Accuracy: 0.7580, F1: 0.7565\n"
          ]
        },
        {
          "output_type": "stream",
          "name": "stderr",
          "text": []
        },
        {
          "output_type": "stream",
          "name": "stdout",
          "text": [
            "📊 Val   - Loss: 0.5854, Accuracy: 0.7429, F1: 0.7455\n",
            "💾 New best model saved! F1: 0.7455\n",
            "\n",
            "📅 Epoch 4/10\n"
          ]
        },
        {
          "output_type": "stream",
          "name": "stderr",
          "text": []
        },
        {
          "output_type": "stream",
          "name": "stdout",
          "text": [
            "📈 Train - Loss: 0.5066, Accuracy: 0.7732, F1: 0.7719\n"
          ]
        },
        {
          "output_type": "stream",
          "name": "stderr",
          "text": []
        },
        {
          "output_type": "stream",
          "name": "stdout",
          "text": [
            "📊 Val   - Loss: 0.5990, Accuracy: 0.7652, F1: 0.7662\n",
            "💾 New best model saved! F1: 0.7662\n",
            "\n",
            "📅 Epoch 5/10\n"
          ]
        },
        {
          "output_type": "stream",
          "name": "stderr",
          "text": []
        },
        {
          "output_type": "stream",
          "name": "stdout",
          "text": [
            "📈 Train - Loss: 0.4754, Accuracy: 0.7953, F1: 0.7944\n"
          ]
        },
        {
          "output_type": "stream",
          "name": "stderr",
          "text": []
        },
        {
          "output_type": "stream",
          "name": "stdout",
          "text": [
            "📊 Val   - Loss: 0.6624, Accuracy: 0.7267, F1: 0.7263\n",
            "⏳ No improvement. Patience: 1/3\n",
            "\n",
            "📅 Epoch 6/10\n"
          ]
        },
        {
          "output_type": "stream",
          "name": "stderr",
          "text": []
        },
        {
          "output_type": "stream",
          "name": "stdout",
          "text": [
            "📈 Train - Loss: 0.4395, Accuracy: 0.8066, F1: 0.8059\n"
          ]
        },
        {
          "output_type": "stream",
          "name": "stderr",
          "text": []
        },
        {
          "output_type": "stream",
          "name": "stdout",
          "text": [
            "📊 Val   - Loss: 0.6090, Accuracy: 0.7773, F1: 0.7759\n",
            "💾 New best model saved! F1: 0.7759\n",
            "\n",
            "📅 Epoch 7/10\n"
          ]
        },
        {
          "output_type": "stream",
          "name": "stderr",
          "text": []
        },
        {
          "output_type": "stream",
          "name": "stdout",
          "text": [
            "📈 Train - Loss: 0.4091, Accuracy: 0.8239, F1: 0.8236\n"
          ]
        },
        {
          "output_type": "stream",
          "name": "stderr",
          "text": []
        },
        {
          "output_type": "stream",
          "name": "stdout",
          "text": [
            "📊 Val   - Loss: 0.6416, Accuracy: 0.7915, F1: 0.7901\n",
            "💾 New best model saved! F1: 0.7901\n",
            "\n",
            "📅 Epoch 8/10\n"
          ]
        },
        {
          "output_type": "stream",
          "name": "stderr",
          "text": []
        },
        {
          "output_type": "stream",
          "name": "stdout",
          "text": [
            "📈 Train - Loss: 0.4005, Accuracy: 0.8214, F1: 0.8211\n"
          ]
        },
        {
          "output_type": "stream",
          "name": "stderr",
          "text": []
        },
        {
          "output_type": "stream",
          "name": "stdout",
          "text": [
            "📊 Val   - Loss: 0.6856, Accuracy: 0.7794, F1: 0.7789\n",
            "⏳ No improvement. Patience: 1/3\n",
            "\n",
            "📅 Epoch 9/10\n"
          ]
        },
        {
          "output_type": "stream",
          "name": "stderr",
          "text": []
        },
        {
          "output_type": "stream",
          "name": "stdout",
          "text": [
            "📈 Train - Loss: 0.3898, Accuracy: 0.8275, F1: 0.8274\n"
          ]
        },
        {
          "output_type": "stream",
          "name": "stderr",
          "text": []
        },
        {
          "output_type": "stream",
          "name": "stdout",
          "text": [
            "📊 Val   - Loss: 0.6851, Accuracy: 0.7571, F1: 0.7572\n",
            "⏳ No improvement. Patience: 2/3\n",
            "\n",
            "📅 Epoch 10/10\n"
          ]
        },
        {
          "output_type": "stream",
          "name": "stderr",
          "text": []
        },
        {
          "output_type": "stream",
          "name": "stdout",
          "text": [
            "📈 Train - Loss: 0.3684, Accuracy: 0.8340, F1: 0.8341\n"
          ]
        },
        {
          "output_type": "stream",
          "name": "stderr",
          "text": [
            "                                                                        "
          ]
        },
        {
          "output_type": "stream",
          "name": "stdout",
          "text": [
            "📊 Val   - Loss: 0.6829, Accuracy: 0.7713, F1: 0.7713\n",
            "⏳ No improvement. Patience: 3/3\n",
            "🛑 Early stopping triggered!\n",
            "\n",
            "✅ Training completed in 2479.2 seconds (41.3 minutes)\n",
            "🏆 Best validation F1: 0.7901\n"
          ]
        },
        {
          "output_type": "stream",
          "name": "stderr",
          "text": [
            "\r"
          ]
        },
        {
          "output_type": "execute_result",
          "data": {
            "text/plain": [
              "<All keys matched successfully>"
            ]
          },
          "metadata": {},
          "execution_count": 60
        }
      ]
    },
    {
      "cell_type": "code",
      "source": [
        "# Final validation evaluation\n",
        "val_loss, val_accuracy, val_f1, val_preds, val_labels, val_probs = evaluate(\n",
        "    model, val_dataloader, device, criterion\n",
        ")\n",
        "\n",
        "print(\"📋 FINAL VALIDATION RESULTS:\")\n",
        "print(f\"Loss: {val_loss:.4f}\")\n",
        "print(f\"Accuracy: {val_accuracy:.4f}\")\n",
        "print(f\"F1 Score: {val_f1:.4f}\")\n",
        "\n",
        "# Confidence analysis\n",
        "confidence_scores = np.max(val_probs, axis=1)\n",
        "avg_confidence = np.mean(confidence_scores)\n",
        "print(f\"Average prediction confidence: {avg_confidence:.4f}\")\n",
        "\n",
        "print(\"\\n📊 DETAILED CLASSIFICATION REPORT:\")\n",
        "print(classification_report(val_labels, val_preds, target_names=[label_names[i] for i in sorted(label_names.keys())]))\n",
        "\n",
        "# Test evaluation if available\n",
        "if X_test is not None:\n",
        "    test_loss, test_accuracy, test_f1, test_preds, test_labels, test_probs = evaluate(\n",
        "        model, test_dataloader, device, criterion\n",
        "    )\n",
        "\n",
        "    print(\"\\n🧪 TEST SET RESULTS:\")\n",
        "    print(f\"Loss: {test_loss:.4f}\")\n",
        "    print(f\"Accuracy: {test_accuracy:.4f}\")\n",
        "    print(f\"F1 Score: {test_f1:.4f}\")\n",
        "\n",
        "    # Test confidence analysis\n",
        "    test_confidence = np.max(test_probs, axis=1)\n",
        "    avg_test_confidence = np.mean(test_confidence)\n",
        "    print(f\"Average test prediction confidence: {avg_test_confidence:.4f}\")\n",
        "\n",
        "    print(\"\\n📊 TEST SET CLASSIFICATION REPORT:\")\n",
        "    print(classification_report(test_labels, test_preds, target_names=[label_names[i] for i in sorted(label_names.keys())]))\n"
      ],
      "metadata": {
        "colab": {
          "base_uri": "https://localhost:8080/"
        },
        "id": "ssZKMHwUlqut",
        "outputId": "369d79a9-f0be-4c51-e40d-70c7125101e9"
      },
      "execution_count": null,
      "outputs": [
        {
          "output_type": "stream",
          "name": "stderr",
          "text": []
        },
        {
          "output_type": "stream",
          "name": "stdout",
          "text": [
            "📋 FINAL VALIDATION RESULTS:\n",
            "Loss: 0.6829\n",
            "Accuracy: 0.7713\n",
            "F1 Score: 0.7713\n",
            "Average prediction confidence: 0.8427\n",
            "\n",
            "📊 DETAILED CLASSIFICATION REPORT:\n",
            "              precision    recall  f1-score   support\n",
            "\n",
            "    Positive       0.81      0.72      0.76       167\n",
            "     Neutral       0.78      0.80      0.79       189\n",
            "    Negative       0.72      0.78      0.75       138\n",
            "\n",
            "    accuracy                           0.77       494\n",
            "   macro avg       0.77      0.77      0.77       494\n",
            "weighted avg       0.77      0.77      0.77       494\n",
            "\n"
          ]
        },
        {
          "output_type": "stream",
          "name": "stderr",
          "text": [
            "                                                                          "
          ]
        },
        {
          "output_type": "stream",
          "name": "stdout",
          "text": [
            "\n",
            "🧪 TEST SET RESULTS:\n",
            "Loss: 1.5271\n",
            "Accuracy: 0.5356\n",
            "F1 Score: 0.5377\n",
            "Average test prediction confidence: 0.7835\n",
            "\n",
            "📊 TEST SET CLASSIFICATION REPORT:\n",
            "              precision    recall  f1-score   support\n",
            "\n",
            "    Positive       0.64      0.57      0.60      1144\n",
            "     Neutral       0.51      0.55      0.53       967\n",
            "    Negative       0.45      0.47      0.46       850\n",
            "\n",
            "    accuracy                           0.54      2961\n",
            "   macro avg       0.53      0.53      0.53      2961\n",
            "weighted avg       0.54      0.54      0.54      2961\n",
            "\n"
          ]
        },
        {
          "output_type": "stream",
          "name": "stderr",
          "text": [
            "\r"
          ]
        }
      ]
    },
    {
      "cell_type": "code",
      "source": [
        "# Plot training history\n",
        "plt.figure(figsize=(15, 5))\n",
        "\n",
        "plt.subplot(1, 3, 1)\n",
        "plt.plot(range(1, epochs+1), train_losses, 'b-', label='Training', marker='o')\n",
        "plt.plot(range(1, epochs+1), val_losses, 'r-', label='Validation', marker='s')\n",
        "plt.xlabel('Epoch')\n",
        "plt.ylabel('Loss')\n",
        "plt.title('Training and Validation Loss')\n",
        "plt.legend()\n",
        "plt.grid(True, alpha=0.3)\n",
        "\n",
        "plt.subplot(1, 3, 2)\n",
        "plt.plot(range(1, epochs+1), train_accuracies, 'b-', label='Training', marker='o')\n",
        "plt.plot(range(1, epochs+1), val_accuracies, 'r-', label='Validation', marker='s')\n",
        "plt.xlabel('Epoch')\n",
        "plt.ylabel('Accuracy')\n",
        "plt.title('Training and Validation Accuracy')\n",
        "plt.legend()\n",
        "plt.grid(True, alpha=0.3)\n",
        "\n",
        "plt.subplot(1, 3, 3)\n",
        "plt.plot(range(1, epochs+1), train_f1_scores, 'b-', label='Training', marker='o')\n",
        "plt.plot(range(1, epochs+1), val_f1_scores, 'r-', label='Validation', marker='s')\n",
        "plt.xlabel('Epoch')\n",
        "plt.ylabel('F1 Score')\n",
        "plt.title('Training and Validation F1 Score')\n",
        "plt.legend()\n",
        "plt.grid(True, alpha=0.3)\n",
        "\n",
        "plt.tight_layout()\n",
        "plt.savefig('training_history.png', dpi=300, bbox_inches='tight')\n",
        "plt.show()\n",
        "\n",
        "# Confusion Matrix\n",
        "plt.figure(figsize=(8, 6))\n",
        "cm = confusion_matrix(val_labels, val_preds)\n",
        "sns.heatmap(cm, annot=True, fmt='d', cmap='Blues',\n",
        "            xticklabels=[label_names[i] for i in sorted(label_names.keys())],\n",
        "            yticklabels=[label_names[i] for i in sorted(label_names.keys())])\n",
        "plt.title('Validation Set Confusion Matrix')\n",
        "plt.ylabel('True Label')\n",
        "plt.xlabel('Predicted Label')\n",
        "plt.savefig('confusion_matrix.png', dpi=300, bbox_inches='tight')\n",
        "plt.show()\n"
      ],
      "metadata": {
        "colab": {
          "base_uri": "https://localhost:8080/",
          "height": 986
        },
        "id": "o3mnzQINmbLI",
        "outputId": "5d493dc1-3923-4e09-e20c-b8d99e18d135"
      },
      "execution_count": null,
      "outputs": [
        {
          "output_type": "display_data",
          "data": {
            "text/plain": [
              "<Figure size 1500x500 with 3 Axes>"
            ],
            "image/png": "[encoded data removed]"
          },
          "metadata": {}
        },
        {
          "output_type": "display_data",
          "data": {
            "text/plain": [
              "<Figure size 800x600 with 2 Axes>"
            ],
            "image/png": "[encoded data removed]"
          },
          "metadata": {}
        }
      ]
    },
    {
      "cell_type": "code",
      "source": [
        "output_dir = './darija_sentiment_model/'\n",
        "if not os.path.exists(output_dir):\n",
        "    os.makedirs(output_dir)\n",
        "\n",
        "# Save model and tokenizer\n",
        "model.save_pretrained(output_dir)\n",
        "tokenizer.save_pretrained(output_dir)\n",
        "\n",
        "# Save training results\n",
        "results = {\n",
        "    'best_val_f1': float(best_val_f1),\n",
        "    'training_time': training_time,\n",
        "    'epochs': epochs,\n",
        "    'batch_size': batch_size,\n",
        "    'learning_rate': learning_rate,\n",
        "    'model_name': model_name,\n",
        "    'num_labels': num_labels,\n",
        "    'label_names': label_names\n",
        "}\n",
        "\n",
        "import json\n",
        "with open(os.path.join(output_dir, 'training_results.json'), 'w', encoding='utf-8') as f:\n",
        "    json.dump(results, f, ensure_ascii=False, indent=2)\n",
        "\n",
        "print(f\"✅ Model saved to {output_dir}\")\n",
        "print(\"📁 Saved files:\")\n",
        "print(\"  - pytorch_model.bin (model weights)\")\n",
        "print(\"  - config.json (model configuration)\")\n",
        "print(\"  - tokenizer files\")\n",
        "print(\"  - training_results.json (training summary)\")\n"
      ],
      "metadata": {
        "colab": {
          "base_uri": "https://localhost:8080/"
        },
        "id": "H1fjTk1vmoYG",
        "outputId": "56c908ba-e340-4dc7-994b-9256719c1187"
      },
      "execution_count": null,
      "outputs": [
        {
          "output_type": "stream",
          "name": "stdout",
          "text": [
            "✅ Model saved to ./darija_sentiment_model/\n",
            "📁 Saved files:\n",
            "  - pytorch_model.bin (model weights)\n",
            "  - config.json (model configuration)\n",
            "  - tokenizer files\n",
            "  - training_results.json (training summary)\n"
          ]
        }
      ]
    },
    {
      "cell_type": "code",
      "source": [
        "def predict_sentiment(text, model, tokenizer, device, label_names):\n",
        "    \"\"\"\n",
        "    Predict sentiment for a given text\n",
        "\n",
        "    Args:\n",
        "        text (str): Input text\n",
        "        model: Trained model\n",
        "        tokenizer: Tokenizer\n",
        "        device: Computing device\n",
        "        label_names (dict): Mapping of label indices to names\n",
        "\n",
        "    Returns:\n",
        "        dict: Prediction results\n",
        "    \"\"\"\n",
        "    model.eval()\n",
        "\n",
        "    # Tokenize\n",
        "    encoding = tokenizer(\n",
        "        text,\n",
        "        add_special_tokens=True,\n",
        "        max_length=128,\n",
        "        padding='max_length',\n",
        "        truncation=True,\n",
        "        return_attention_mask=True,\n",
        "        return_tensors='pt'\n",
        "    )\n",
        "\n",
        "    input_ids = encoding['input_ids'].to(device)\n",
        "    attention_mask = encoding['attention_mask'].to(device)\n",
        "\n",
        "    with torch.no_grad():\n",
        "        outputs = model(input_ids=input_ids, attention_mask=attention_mask)\n",
        "        logits = outputs.logits\n",
        "        probabilities = torch.nn.functional.softmax(logits, dim=1)\n",
        "\n",
        "        pred_label = torch.argmax(logits, dim=1).cpu().item()\n",
        "        confidence = probabilities[0][pred_label].cpu().item()\n",
        "\n",
        "    return {\n",
        "        'text': text,\n",
        "        'predicted_label': pred_label,\n",
        "        'predicted_sentiment': label_names[pred_label],\n",
        "        'confidence': confidence,\n",
        "        'all_probabilities': {label_names[i]: prob.item() for i, prob in enumerate(probabilities[0])}\n",
        "    }\n",
        "\n",
        "# Example predictions\n",
        "example_texts = [\n",
        "    \"كتب حلو بزاف\",  # Very nice book\n",
        "    \"ما عجبنيش هاد الفيلم\",  # I didn't like this movie\n",
        "    \"واخا\",  # Okay/Whatever\n",
        "    \"sara7a dnya ghada okat5yab\",  # Excellent\n",
        "]\n",
        "\n",
        "print(\"🔮 EXAMPLE PREDICTIONS:\")\n",
        "print(\"-\" * 50)\n",
        "\n",
        "for text in example_texts:\n",
        "    result = predict_sentiment(text, model, tokenizer, device, label_names)\n",
        "    print(f\"Text: {result['text']}\")\n",
        "    print(f\"Prediction: {result['predicted_sentiment']} (confidence: {result['confidence']:.3f})\")\n",
        "    print(f\"All probabilities: {result['all_probabilities']}\")\n",
        "    print(\"-\" * 50)\n"
      ],
      "metadata": {
        "colab": {
          "base_uri": "https://localhost:8080/"
        },
        "id": "dFzhWxXOs6TE",
        "outputId": "69672564-dbbb-4c20-f108-172c5b0bb6bb"
      },
      "execution_count": null,
      "outputs": [
        {
          "output_type": "stream",
          "name": "stdout",
          "text": [
            "🔮 EXAMPLE PREDICTIONS:\n",
            "--------------------------------------------------\n",
            "Text: كتب حلو بزاف\n",
            "Prediction: Positive (confidence: 0.987)\n",
            "All probabilities: {'Positive': 0.987038791179657, 'Neutral': 0.011175072751939297, 'Negative': 0.0017861673841252923}\n",
            "--------------------------------------------------\n",
            "Text: ما عجبنيش هاد الفيلم\n",
            "Prediction: Neutral (confidence: 0.980)\n",
            "All probabilities: {'Positive': 0.002047592541202903, 'Neutral': 0.980451762676239, 'Negative': 0.017500683665275574}\n",
            "--------------------------------------------------\n",
            "Text: واخا\n",
            "Prediction: Neutral (confidence: 0.636)\n",
            "All probabilities: {'Positive': 0.32362550497055054, 'Neutral': 0.635943591594696, 'Negative': 0.04043087735772133}\n",
            "--------------------------------------------------\n",
            "Text: sara7a dnya ghada okat5yab\n",
            "Prediction: Positive (confidence: 0.653)\n",
            "All probabilities: {'Positive': 0.6525622010231018, 'Neutral': 0.17911271750926971, 'Negative': 0.16832511126995087}\n",
            "--------------------------------------------------\n"
          ]
        }
      ]
    },
    {
      "cell_type": "code",
      "source": [],
      "metadata": {
        "id": "IqCCCwxytCAi"
      },
      "execution_count": null,
      "outputs": []
    }
  ]
}